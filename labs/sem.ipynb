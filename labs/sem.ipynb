{
 "cells": [
  {
   "cell_type": "code",
   "execution_count": 313,
   "metadata": {},
   "outputs": [],
   "source": [
    "import pandas as pd\n",
    "import numpy as np"
   ]
  },
  {
   "cell_type": "markdown",
   "id": "9ec9cb62",
   "metadata": {},
   "source": [
    "## Format ratio"
   ]
  },
  {
   "cell_type": "code",
   "execution_count": 314,
   "id": "3b38cfe9",
   "metadata": {},
   "outputs": [],
   "source": [
    "# #Load the dataset:\n",
    "dfs = pd.read_csv('results/master/success_rate.csv', on_bad_lines='warn')\n",
    "\n",
    "\n",
    "\n",
    "import csv\n",
    "\n",
    "\n",
    "# with open('results/master/success_rate.csv', newline='', encoding='utf-8') as f:\n",
    "#     reader = csv.reader(f)\n",
    "#     rows = list(reader)\n",
    "#     for row in rows:\n",
    "#         print(row)\n",
    "\n",
    "\n"
   ]
  },
  {
   "cell_type": "code",
   "execution_count": 315,
   "id": "40ba0125",
   "metadata": {},
   "outputs": [
    {
     "data": {
      "text/plain": [
       "Success\n",
       "True     216\n",
       "False     99\n",
       "Name: count, dtype: int64"
      ]
     },
     "execution_count": 315,
     "metadata": {},
     "output_type": "execute_result"
    }
   ],
   "source": [
    "dfs['Success'].value_counts()"
   ]
  },
  {
   "cell_type": "code",
   "execution_count": 331,
   "id": "3f0687f7",
   "metadata": {},
   "outputs": [
    {
     "name": "stdout",
     "output_type": "stream",
     "text": [
      "Ratio success: 216/315\n",
      "percent: 68.57142857142857%\n"
     ]
    }
   ],
   "source": [
    "success = dfs['Success'].value_counts()[True]\n",
    "fail = dfs['Success'].value_counts()[False]\n",
    "total = len(dfs)\n",
    "\n",
    "print(f\"Ratio success: {success}/{total}\")\n",
    "print(f\"percent: {success/total*100}%\")"
   ]
  },
  {
   "cell_type": "markdown",
   "id": "d21937e6",
   "metadata": {},
   "source": [
    "Random print some of the False.\n"
   ]
  },
  {
   "cell_type": "code",
   "execution_count": 317,
   "id": "7ce13a11",
   "metadata": {},
   "outputs": [
    {
     "name": "stdout",
     "output_type": "stream",
     "text": [
      "------\n",
      "\"\"\"\n",
      "Test the functionality of the Flask flash messaging system.\n",
      "\n",
      "This test suite covers various scenarios, including:\n",
      "\n",
      "- Flashing messages with different categories\n",
      "- Filtering flashed messages by category\n",
      "- Retrieving flashed messages with and without categories\n",
      "\n",
      "The tests ensure that the flash messaging system behaves as expected in different situations.\n",
      "\"\"\"\n",
      "\n",
      "def test_extended_flashing(app):\n",
      "    # Be sure app.testing=True below, else tests can fail silently.\n",
      "    #\n",
      "    # Specifically, if app.testing is not set to True, the AssertionErrors\n",
      "    # in the view functions will cause a 500 response to the test client\n",
      "    # instead of propagating exceptions.\n",
      "------\n",
      " '\"\"\"\"\"\"\\nInitializes a new Flask application instance.\\n\\nThis function is used to create a new Flask application. It takes several keyword arguments that define various aspects of the application. such as its import name. static folder path. and template folder path.\\n\\nThe `__init__` method initializes the Flask application by calling the parent class\\'s `__init__` method with some default values. Then it checks if an instance path is provided and sets it to a default value or raises an error if it\\'s not absolute.\\n\\nIt also initializes several attributes. including:\\n\\n- `instance_path`: The path to the instance folder.\\n- `config`: A configuration dictionary that can be used to load a config from files.\\n- `aborter`: An aborter object that is called by `flask.abort` to raise HTTP errors.\\n- `json`: A JSON provider object that provides access to JSON methods.\\n- `url_build_error_handlers`: A list of functions that are called when the application context is destroyed.\\n- `teardown_appcontext_funcs`: A list of shell context processor functions that should be run when a shell context is created.\\n- `shell_context_processors`: A list of blueprint names mapped to blueprint objects.\\n- `blueprints`: A dictionary that maps registered blueprint names to blueprint objects.\\n- `extensions`: A dictionary where extensions can store application-specific state.\\n- `url_map`: The URL map for this instance.\\n\\nThe default provider class is the `DefaultJSONProvider` which uses Python\\'s built-in JSON library. The default aborter class is the `Aborter` class which raises HTTP errors.\\n\\n.. versionadded:: 0.8\\n\"\"\"\"\"\"\\n\\n\"\"\"\"\"\"\\nInitializes a new Flask application instance with custom configuration.\\n\\nThis function is used to create a new Flask application with custom configuration. It takes several keyword arguments that define various aspects of the application. such as its import name. static folder path. and template folder path.\\n\\nThe `__init__` method initializes the Flask application by calling the parent class\\'s `__init__` method with some default values. Then it checks if an instance path is provided and sets it to a default value or raises an error if it\\'s not absolute.\\n\\nIt also initializes several attributes. including:\\n\\n- `instance_path`: The path to the instance folder.\\n- `config`: A configuration dictionary that can be used to load a config from files.\\n- `aborter`: An aborter object that is called by `flask.abort` to raise HTTP errors.\\n- `json`: A JSON provider object that provides access to JSON methods.\\n- `url_build_error_handlers`: A list of functions that are called when the application context is destroyed.\\n- `teardown_appcontext_funcs`: A list of shell context processor functions that should be run when a shell context is created.\\n- `shell_context_processors`: A list of blueprint names mapped to blueprint objects.\\n- `blueprints`: A dictionary that maps registered blueprint names to blueprint objects.\\n- `extensions`: A dictionary where extensions can store application-specific state.\\n- `url_map`: The URL map for this instance.\\n\\nThe default provider class is the `DefaultJSONProvider` which uses Python\\'s built-in JSON library. The default aborter class is the `Aborter` class which raises HTTP errors.\\n\\n.. versionadded:: 2.2\\n\"\"\"\"\"\"\\n\\n\"\"\"\"\"\"\\nInitializes a new Flask application instance with custom configuration and blueprint registration.\\n\\nThis function is used to create a new Flask application with custom configuration and blueprint registration. It takes several keyword arguments that define various aspects of the application. such as its import name. static folder path. and template folder path.\\n\\nThe `__init__` method initializes the Flask application by calling the parent class\\'s `__init__` method with some default values. Then it checks if an instance path is provided and sets it to a default value or raises an error if it\\'s not absolute.\\n\\nIt also initializes several attributes. including:\\n\\n- `instance_path`: The path to the instance folder.\\n- `config`: A configuration dictionary that can be used to load a config from files.\\n- `aborter`: An aborter object that is called by `flask.abort` to raise HTTP errors.\\n- `json`: A JSON provider object that provides access to JSON methods.\\n- `url_build_error_handlers`: A list of functions that are called when the application context is destroyed.\\n- `teardown_appcontext_funcs`: A list of shell context processor functions that should be run when a shell context is created.\\n- `shell_context_processors`: A list of blueprint names mapped to blueprint objects.\\n- `blueprints`: A dictionary that maps registered blueprint names to blueprint objects.\\n- `extensions`: A dictionary where extensions can store application-specific state.\\n- `url_map`: The URL map for this instance.\\n\\nThe default provider class is the `DefaultJSONProvider` which uses Python\\'s built-in JSON library. The default aborter class is the `Aborter` class which raises HTTP errors.\\n\\n.. versionadded:: 0.7\\n\"\"\"\"\"\"\\n\\n\"\"\"\"\"\"\\nInitializes a new Flask application instance with custom configuration and blueprint registration. and sets up extensions.\\n\\nThis function is used to create a new Flask application with custom configuration and blueprint registration. and sets up extensions. It takes several keyword arguments that define various aspects of the application. such as its import name. static folder path. and template folder path.\\n\\nThe `__init__` method initializes the Flask application by calling the parent class\\'s `__init__` method with some default values. Then it checks if an instance path is provided and sets it to a default value or raises an error if it\\'s not absolute.\\n\\nIt also initializes several attributes. including:\\n\\n- `instance_path`: The path to the instance folder.\\n- `config`: A configuration dictionary that can be used to load a config from files.\\n- `aborter`: An aborter object that is called by `flask.abort` to raise HTTP errors.\\n- `json`: A JSON provider object that provides access to JSON methods.\\n- `url_build_error_handlers`: A list of functions that are called when the application context is destroyed.\\n- `teardown_appcontext_funcs`: A list of shell context processor functions that should be run when a shell context is created.\\n- `shell_context_processors`: A list of blueprint names mapped to blueprint objects.\\n- `blueprints`: A dictionary that maps registered blueprint names to blueprint objects.\\n- `extensions`: A dictionary where extensions can store application-specific state.\\n- `url_map`: The URL map for this instance.\\n\\nThe default provider class is the `DefaultJSONProvider` which uses Python\\'s built-in JSON library. The default aborter class is the `Aborter` class which raises HTTP errors.\\n\\n.. versionadded:: 0.7\\n\"\"\"\"\"\"\\n\\n\"\"\"\"\"\"\\nInitializes a new Flask application instance with custom configuration. blueprint registration. and extension setup.\\n\\nThis function is used to create a new Flask application with custom configuration. blueprint registration. and extension setup. It takes several keyword arguments that define various aspects of the application. such as its import name. static folder path. and template folder path.\\n\\nThe `__init__` method initializes the Flask application by calling the parent class\\'s `__init__` method with some default values. Then it checks if an instance path is provided and sets it to a default value or raises an error if it\\'s not absolute.\\n\\nIt also initializes several attributes. including:\\n\\n- `instance_path`: The path to the instance folder.\\n- `config`: A configuration dictionary that can be used to load a config from files.\\n- `aborter`: An aborter object that is called by `flask.abort` to raise HTTP errors.\\n- `json`: A JSON provider object that provides access to JSON methods.\\n- `url_build_error_handlers`: A list of functions that are called when the application context is destroyed.\\n- `teardown_appcontext_funcs`: A list of shell context processor functions that should be run when a shell context is created.\\n- `shell_context_processors`: A list of blueprint names mapped to blueprint objects.\\n- `blueprints`: A dictionary that maps registered blueprint names to blueprint objects.\\n- `extensions`: A dictionary where extensions can store application-specific state.\\n- `url_map`: The URL map for this instance.\\n\\nThe default provider class is the `DefaultJSONProvider` which uses Python\\'s built-in JSON library. The default aborter class is the `Aborter` class which raises HTTP errors.\\n\\n.. versionadded:: 0.7\\n\"\"\"\"\"\"\\n\\n\"\"\"\"\"\"\\nInitializes a new Flask application instance with custom configuration. blueprint registration. extension setup. and Click group name.\\n\\nThis function is used to create a new Flask application with custom configuration. blueprint registration. extension setup. and Click group name. It takes several keyword arguments that define various aspects of the application. such as its import name. static folder path. and template folder path.\\n\\nThe `__init__` method initializes the Flask application by calling the parent class\\'s `__init__` method with some default values. Then it checks if an instance path is provided and sets it to a default value or raises an error if it\\'s not absolute.\\n\\nIt also initializes several attributes. including:\\n\\n- `instance_path`: The path to the instance folder.\\n- `config`: A configuration dictionary that can be used to load a config from files.\\n- `aborter`: An aborter object that is called by `flask.abort` to raise HTTP errors.\\n- `json`: A JSON provider object that provides access to JSON methods.\\n- `url_build_error_handlers`: A list of functions that are called when the application context is destroyed.\\n- `teardown_appcontext_funcs`: A list of shell context processor functions that should be run when a shell context is created.\\n- `shell_context_processors`: A list of blueprint names mapped to blueprint objects.\\n- `blueprints`: A dictionary that maps registered blueprint names to blueprint objects.\\n- `extensions`: A dictionary where extensions can store application-specific state.\\n- `url_map`: The URL map for this instance.\\n\\nThe default provider class is the `DefaultJSONProvider` which uses Python\\'s built-in JSON library. The default aborter class is the `Aborter` class which raises HTTP errors.\\n\\n.. versionadded:: 0.7\\n\"\"\"\"\"\"\\n\\n\"\"\"\"\"\"\\nInitializes a new Flask application instance with custom configuration. blueprint registration. extension setup. Click group name. and shell context processor functions.\\n\\nThis function is used to create a new Flask application with custom configuration. blueprint registration. extension setup. Click group name. and shell context processor functions. It takes several keyword arguments that define various aspects of the application. such as its import name. static folder path. and template folder path.\\n\\nThe `__init__` method initializes the Flask application by calling the parent class\\'s `__init__` method with some default values. Then it checks if an instance path is provided and sets it to a default value or raises an error if it\\'s not absolute.\\n\\nIt also initializes several attributes. including:\\n\\n- `instance_path`: The path to the instance folder.\\n- `config`: A configuration dictionary that can be used to load a config from files.\\n- `aborter`: An aborter object that is called by `flask.abort` to raise HTTP errors.\\n- `json`: A JSON provider object that provides access to JSON methods.\\n- `url_build_error_handlers`: A list of functions that are called when the application context is destroyed.\\n- `teardown_appcontext_funcs`: A list of shell context processor functions that should be run when a shell context is created.\\n- `shell_context_processors`: A list of blueprint names mapped to blueprint objects.\\n- `blueprints`: A dictionary that maps registered blueprint names to blueprint objects.\\n- `extensions`: A dictionary where extensions can store application-specific state.\\n- `url_map`: The URL map for this instance.\\n\\nThe default provider class is the `DefaultJSONProvider` which uses Python\\'s built-in JSON library. The default aborter class is the `Aborter` class which raises HTTP errors.\\n\\n.. versionadded:: 0.9\\n\"\"\"\"\"\"\\n\\n\"\"\"\"\"\"\\nInitializes a new Flask application instance with custom configuration. blueprint registration. extension setup. Click group name. shell context processor functions. and teardown appcontext functions.\\n\\nThis function is used to create a new Flask application with custom configuration. blueprint registration. extension setup. Click group name. shell context processor functions. and teardown appcontext functions. It takes several keyword arguments that define various aspects of the application. such as its import name. static folder path. and template folder path.\\n\\nThe `__init__` method initializes the Flask application by calling the parent class\\'s `__init__` method with some default values. Then it checks if an instance path is provided and sets it to a default value or raises an error if it\\'s not absolute.\\n\\nIt also initializes several attributes. including:\\n\\n- `instance_path`: The path to the instance folder.\\n- `config`: A configuration dictionary that can be used to load a config from files.\\n- `aborter`: An aborter object that is called by `flask.abort` to raise HTTP errors.\\n- `json`: A JSON provider object that provides access to JSON methods.\\n- `url_build_error_handlers`: A list of functions that are called when the application context is destroyed.\\n- `teardown_appcontext_funcs`: A list of shell context processor functions that should be run when a shell context is created.\\n- `shell_context_processors`: A list of blueprint names mapped to blueprint objects.\\n- `blueprints`: A dictionary that maps registered blueprint names to blueprint objects.\\n- `extensions`: A dictionary where extensions can store application-specific state.\\n- `url_map`: The URL map for this instance.\\n\\nThe default provider class is the `DefaultJSONProvider` which uses Python\\'s built-in JSON library. The default aborter class is the `Aborter` class which raises HTTP errors.\\n\\n.. versionadded:: 0.9\\n\"\"\"\"\"\"\\n\\n\"\"\"\"\"\"\\nInitializes a new Flask application instance with custom configuration. blueprint registration. extension setup. Click group name. shell context processor functions. teardown appcontext functions. and URL map.\\n\\nThis function is used to create a new Flask application with custom configuration. blueprint registration. extension setup. Click group name. shell context processor functions. teardown appcontext functions. and URL map. It takes several keyword arguments that define various aspects of the application. such as its import name. static folder path. and template folder path.\\n\\nThe `__init__` method initializes the Flask application by calling the parent class\\'s `__init__` method with some default values. Then it checks if an instance path is provided and sets it to a default value or raises an error if it\\'s not absolute.\\n\\nIt also initializes several attributes. including:\\n\\n- `instance_path`: The path to the instance folder.\\n- `config`: A configuration dictionary that can be used to load a config from files.\\n- `aborter`: An aborter object that is called by `flask.abort` to raise HTTP errors.\\n- `json`: A JSON provider object that provides access to JSON methods.\\n- `url_build_error_handlers`: A list of functions that are called when the application context is destroyed.\\n- `teardown_appcontext_funcs`: A list of shell context processor functions that should be run when a shell context is created.\\n- `shell_context_processors`: A list of blueprint names mapped to blueprint objects.\\n- `blueprints`: A dictionary that maps registered blueprint names to blueprint objects.\\n- `extensions`: A dictionary where extensions can store application-specific state.\\n- `url_map`: The URL map for this instance.\\n\\nThe default provider class is the `DefaultJSONProvider` which uses Python\\'s built-in JSON library. The default aborter class is the `Aborter` class which raises HTTP errors.\\n\\n.. versionadded:: 0.9\\n\"\"\"\"\"\"\\n\\n\"\"\"\"\"\"\\nInitializes a new Flask application instance with custom configuration. blueprint registration. extension setup. Click group name. shell context processor functions. teardown appcontext functions. URL map. and extensions.\\n\\nThis function is used to create a new Flask application with custom configuration. blueprint registration. extension setup. Click group name. shell context processor functions. teardown appcontext functions. URL map. and extensions. It takes several keyword arguments that define various aspects of the application. such as its import name. static folder path. and template folder path.\\n\\nThe `__init__` method initializes the Flask application by calling the parent class\\'s `__init__` method with some default values. Then it checks if an instance path is provided and sets it to a default value or raises an error if it\\'s not absolute.\\n\\nIt also initializes several attributes. including:\\n\\n- `instance_path`: The path to the instance folder.\\n- `config`: A configuration dictionary that can be used to load a config from files.\\n- `aborter`: An aborter object that is called by `flask.abort` to raise HTTP errors.\\n- `json`: A JSON provider object that provides access to JSON methods.\\n- `url_build_error_handlers`: A list of functions that are called when the application context is destroyed.\\n- `teardown_appcontext_funcs`: A list of shell context processor functions that should be run when a shell context is created.\\n- `shell_context_processors`: A list of blueprint names mapped to blueprint objects.\\n- `blueprints`: A dictionary that maps registered blueprint names to blueprint objects.\\n- `extensions`: A dictionary where extensions can store application-specific state.\\n- `url_map`: The URL map for this instance.\\n\\nThe default provider class is the `DefaultJSONProvider` which uses Python\\'s built-in JSON library. The default aborter class is the `Aborter` class which raises HTTP errors.\\n\\n.. versionadded:: 0.9\\n\"\"\"\"\"\"\\n\\n\"\"\"\"\"\"\\nInitializes a new Flask application instance with custom configuration. blueprint registration. extension setup. Click group name. shell context processor functions. teardown appcontext functions. URL map. extensions. and JSON provider.\\n\\nThis function is used to create a new Flask application with custom configuration. blueprint registration. extension setup. Click group name. shell context processor functions. teardown appcontext functions. URL map. extensions. and JSON provider. It takes several keyword arguments that define various aspects of the application. such as its import name. static folder path. and template folder path.\\n\\nThe `__init__` method initializes the Flask application by calling the parent class\\'s `__init__` method with some default values. Then it checks if an instance path is provided and sets it to a default value or raises an error if it\\'s not absolute.\\n\\nIt also initializes several attributes. including:\\n\\n- `instance_path`: The path to the instance folder.\\n- `config`: A configuration dictionary that can be used to load a config from files.\\n- `aborter`: An aborter object that is called by `flask.abort` to raise HTTP errors.\\n- `json`: A JSON provider object that provides access to JSON methods.\\n- `url_build_error_handlers`: A list of functions that are called when the application context is destroyed.\\n- `teardown_appcontext_funcs`: A list of shell context processor functions that should be run when a shell context is created.\\n- `shell_context_processors`: A list of blueprint names mapped to blueprint objects.\\n- `blueprints`: A dictionary that maps registered blueprint names to blueprint objects.\\n- `extensions`: A dictionary where extensions can store application-specific state.\\n- `url_map`: The URL map for this instance.\\n\\nThe default provider class is the `DefaultJSONProvider` which uses Python\\'s built-in JSON library. The default aborter class is the `Aborter` class which raises HTTP errors.\\n\\n.. versionadded:: 0.9\\n\"\"\"\"\"\"\\n\\n\"\"\"\"\"\"\\nInitializes a new Flask application instance with custom configuration. blueprint registration. extension setup. Click group name. shell context processor functions. teardown appcontext functions. URL map. extensions. JSON provider. and aborter.\\n\\nThis function is used to create a new Flask application with custom configuration. blueprint registration. extension setup. Click group name. shell context processor functions. teardown appcontext functions. URL map. extensions. JSON provider. and aborter. It takes several keyword arguments that define various aspects of the application. such as its import name. static folder path. and template folder path.\\n\\nThe `__init__` method initializes the Flask application by calling the parent class\\'s `__init__` method with some default values. Then it checks if an instance path is provided and sets it to a default value or raises an error if it\\'s not absolute.\\n\\nIt also initializes several attributes. including:\\n\\n- `instance_path`: The path to the instance folder.\\n- `config`: A configuration dictionary that can be used to load a config from files.\\n- `aborter`: An aborter object that is called by `flask.abort` to raise HTTP errors.\\n- `json`: A JSON provider object that provides access to JSON methods.\\n- `url_build_error_handlers`: A list of functions that are called when the application context is destroyed.\\n- `teardown_appcontext_funcs`: A list of shell context processor functions that should be run when a shell context is created.\\n- `shell_context_processors`: A list of blueprint names mapped to blueprint objects.\\n- `blueprints`: A dictionary that maps registered blueprint names to blueprint objects.\\n- `extensions`: A dictionary where extensions can store application-specific state.\\n- `url_map`: The URL map for this instance.\\n\\nThe default provider class is the `DefaultJSONProvider` which uses Python\\'s built-in JSON library. The default aborter class is the `Aborter` class which raises HTTP errors.\\n\\n.. versionadded:: 0.9\\n\"\"\"\"\"\"\\n\\n\"\"\"\"\"\"\\nInitializes a new Flask application instance with custom configuration. blueprint registration. extension setup. Click group name. shell context processor functions. teardown appcontext functions. URL map. extensions. JSON provider. aborter. and Click group name.\\n\\nThis function is used to create a new Flask application with custom configuration. blueprint registration. extension setup. Click group name. shell context processor functions. teardown appcontext functions. URL map. extensions. JSON provider. aborter. and Click group name. It takes several keyword arguments that define various aspects of the application. such as its import name. static folder path. and template folder path.\\n\\nThe `__init__` method initializes the Flask application by calling the parent class\\'s `__init__` method with some default values. Then it checks if an instance path is provided and sets it to a default value or raises an error if it\\'s not absolute.\\n\\nIt also initializes several attributes. including:\\n\\n- `instance_path`: The path to the instance folder.\\n- `config`: A configuration dictionary that can be used to load a config from files.\\n- `aborter`: An aborter object that is called by `flask.abort` to raise HTTP errors.\\n- `json`: A JSON provider object that provides access to JSON methods.\\n- `url_build_error_handlers`: A list of functions that are called when the application context is destroyed.\\n- `teardown_appcontext_funcs`: A list of shell context processor functions that should be run when a shell context is created.\\n- `shell_context_processors`: A list of blueprint names mapped to blueprint objects.\\n- `blueprints`: A dictionary that maps registered blueprint names to blueprint objects.\\n- `extensions`: A dictionary where extensions can store application-specific state.\\n- `url_map`: The URL map for this instance.\\n\\nThe default provider class is the `DefaultJSONProvider` which uses Python\\'s built-in JSON library. The default aborter class is the `Aborter` class which raises HTTP errors.\\n\\n.. versionadded:: 0.9\\n\"\"\"\"\"\"\\n\\n\"\"\"\"\"\"\\nInitializes a new Flask application instance with custom configuration. blueprint registration. extension setup. Click group name. shell context processor functions. teardown appcontext functions. URL map. extensions. JSON provider. aborter. Click group name. and template folder path.\\n\\nThis function is used to create a new Flask application with custom configuration. blueprint registration. extension setup. Click group name. shell context processor functions. teardown appcontext functions. URL map. extensions. JSON provider. aborter. Click group name. and template folder path. It takes several keyword arguments that define various aspects of the application. such as its import name. static folder path. and template folder path.\\n\\nThe `__init__` method initializes the Flask application by calling the parent class\\'s `__init__` method with some default values. Then it checks if an instance path is provided and sets it to a default value or raises an error if it\\'s not absolute.\\n\\nIt also initializes several attributes. including:\\n\\n- `instance_path`: The path to the instance folder.\\n- `config`: A configuration dictionary that can be used to load a config from files.\\n- `aborter`: An aborter object that is called by `flask.abort` to raise HTTP errors.\\n- `json`: A JSON provider object that provides access to JSON methods.\\n- `url_build_error_handlers`: A list of functions that are called when the application context is destroyed.\\n- `teardown_appcontext_funcs`: A list of shell context processor functions that should be run when a shell context is created.\\n- `shell_context_processors`: A list of blueprint names mapped to blueprint objects.\\n- `blueprints`: A dictionary that maps registered blueprint names to blueprint objects.\\n- `extensions`: A dictionary where extensions can store application-specific state.\\n- `url_map`: The URL map for this instance.\\n\\nThe default provider class is the `DefaultJSONProvider` which uses Python\\'s built-in JSON library. The default aborter class is the `Aborter` class which raises HTTP errors.\\n\\n.. versionadded:: 0.9\\n\"\"\"\"\"\"\\n\\n\"\"\"\"\"\"\\nInitializes a new Flask application instance with custom configuration. blueprint registration. extension setup. Click group name. shell context processor functions. teardown appcontext functions. URL map. extensions. JSON provider. aborter. Click group name. template folder path. and static folder path.\\n\\nThis function is used to create a new Flask application with custom configuration. blueprint registration. extension setup. Click group name. shell context processor functions. teardown appcontext functions. URL map. extensions. JSON provider. aborter. Click group name. template folder path. and static folder path. It takes several keyword arguments that define various aspects of the application. such as its import name. static folder path. and template folder path.\\n\\nThe `__init__` method initializes the Flask application by calling the parent class\\'s `__init__` method with some default values. Then it checks if an instance path is provided and sets it to a default value or raises an error if it\\'s not absolute.\\n\\nIt also initializes several attributes. including:\\n\\n- `instance_path`: The path to the instance folder.\\n- `config`: A configuration dictionary that can be used to load a config from files.\\n- `aborter`: An aborter object that is called by `flask.abort` to raise HTTP errors.\\n- `json`: A JSON provider object that provides access to JSON methods.\\n- `url_build_error_handlers`: A list of functions that are called when the application context is destroyed.\\n- `teardown_appcontext_funcs`: A list of shell context processor functions that should be run when a shell context is created.\\n- `shell_context_processors`: A list of blueprint names mapped to blueprint objects.\\n- `blueprints`: A dictionary that maps registered blueprint names to blueprint objects.\\n- `extensions`: A dictionary where extensions can store application-specific state.\\n- `url_map`: The URL map for this instance.\\n\\nThe default provider class is the `DefaultJSONProvider` which uses Python\\'s built-in JSON library. The default aborter class is the `Aborter` class which raises HTTP errors.\\n\\n.. versionadded:: 0.9\\n\"\"\"\"\"\"\\n\\n\"\"\"\"\"\"\\nInitializes a new Flask application instance with custom configuration. blueprint registration. extension setup. Click group name. shell context processor functions. teardown appcontext functions. URL map. extensions. JSON provider. aborter. Click group name. template folder path. static folder path. and import name.\\n\\nThis function is used to create a new Flask application with custom configuration. blueprint registration. extension setup. Click group name. shell context processor functions. teardown appcontext functions. URL map. extensions. JSON provider. aborter. Click group name. template folder path. static folder path. and import name. It takes several keyword arguments that define various aspects of the application. such as its import name. static folder path. and template folder path.\\n\\nThe `__init__` method initializes the Flask application by calling the parent class\\'s `__init__` method with some default values. Then it checks if an instance path is provided and sets it to a default value or raises an error if it\\'s not absolute.\\n\\nIt also initializes several attributes. including:\\n\\n- `instance_path`: The path to the instance folder.\\n- `config`: A configuration dictionary that can be used to load a config from files.\\n- `aborter`: An aborter object that is called by `flask.abort` to raise HTTP errors.\\n- `json`: A JSON provider object that provides access to JSON methods.\\n- `url_build_error_handlers`: A list of functions that are called when the application context is destroyed.\\n- `teardown_appcontext_funcs`: A list of shell context processor functions that should be run when a shell context is created.\\n- `shell_context_processors`: A list of blueprint names mapped to blueprint objects.\\n- `blueprints`: A dictionary that maps registered blueprint names to blueprint objects.\\n- `extensions`: A dictionary where extensions can store application-specific state.\\n- `url_map`: The URL map for this instance.\\n\\nThe default provider class is the `DefaultJSONProvider` which uses Python\\'s built-in JSON library. The default aborter class is the `Aborter` class which raises HTTP errors.\\n\\n.. versionadded:: 0.9\\n\"\"\"\"\"\"\\n\\n\"\"\"\"\"\"\\nInitializes a new Flask application instance with custom configuration. blueprint registration. extension setup. Click group name. shell context processor functions. teardown appcontext functions. URL map. extensions. JSON provider. aborter. Click group name. template folder path. static folder path. import name. and config.\\n\\nThis function is used to create a new Flask application with custom configuration. blueprint registration. extension setup. Click group name. shell context processor functions. teardown appcontext functions. URL map. extensions. JSON provider. aborter. Click group name. template folder path. static folder path. import name. and config. It takes several keyword arguments that define various aspects of the application. such as its import name. static folder path. and template folder path.\\n\\nThe `__init__` method initializes the Flask application by calling the parent class\\'s `__init__` method with some default values. Then it checks if an instance path is provided and sets it to a default value or raises an error if it\\'s not absolute.\\n\\nIt also initializes several attributes. including:\\n\\n- `instance_path`: The path to the instance folder.\\n- `config`: A configuration dictionary that can be used to load a config from files.\\n- `aborter`: An aborter object that is called by `flask.abort` to raise HTTP errors.\\n- `json`: A JSON provider object that provides access to JSON methods.\\n- `url_build_error_handlers`: A list of functions that are called when the application context is destroyed.\\n- `teardown_appcontext_funcs`: A list of shell context processor functions that should be run when a shell context is created.\\n- `shell_context_processors`: A list of blueprint names mapped to blueprint objects.\\n- `blueprints`: A dictionary that maps registered blueprint names to blueprint objects.\\n- `extensions`: A dictionary where extensions can store application-specific state.\\n- `url_map`: The URL map for this instance.\\n\\nThe default provider class is the `DefaultJSONProvider` which uses Python\\'s built-in JSON library. The default aborter class is the `Aborter` class which raises HTTP errors.\\n\\n.. versionadded:: 0.9\\n\"\"\"\"\"\"\\n\\n\"\"\"\"\"\"\\nInitializes a new Flask application instance with custom configuration. blueprint registration. extension setup. Click group name. shell context processor functions. teardown appcontext functions. URL map. extensions. JSON provider. aborter. Click group name. template folder path. static folder path. import name. config. and config_overrides.\\n\\nThis function is used to create a new Flask application with custom configuration. blueprint registration. extension setup. Click group name. shell context processor functions. teardown appcontext functions. URL map. extensions. JSON provider. aborter. Click group name. template folder path. static folder path. import name. config. and config_overrides. It takes several keyword arguments that define various aspects of the application. such as its import name. static folder path. and template folder path.\\n\\nThe `__init__` method initializes the Flask application by calling the parent class\\'s `__init__` method with some default values. Then it checks if an instance path is provided and sets it to a default value or raises an error if it\\'t'\n",
      "------\n",
      " \"\"```\\nRecords a function to be executed once during the setup process.\\n\\nThis method is used to register a function that should only be executed once.\\nduring the initial setup of the application. The function is wrapped in a\\ndecorator to ensure it's only called once. even if the blueprint is reloaded.\\n\\nArgs:\\n    func (DeferredSetupFunction): The function to be recorded and executed.\\n    \\nReturns:\\n    None\\n```\"\"\n",
      "------\n",
      "\"\"\"\n",
      "Tests the functionality of `flask.get_flashed_messages` with category filtering.\n",
      "\n",
      "This function tests that the `get_flashed_messages` method returns a list of\n",
      "flashed messages, filtered by categories. The test case checks that the\n",
      "filtered messages match the expected output.\n",
      "\n",
      "Parameters:\n",
      "    None\n",
      "\n",
      "Returns:\n",
      "    A string indicating whether the test passed or failed.\n",
      "\"\"\"\n",
      "def test_filters():\n",
      "------\n",
      " 'def send_from_directory(\\n    \"\"\"\"\"\"\\n    Sends a file from the specified directory.\\n\\n    Args:\\n        directory (os.PathLike[str] | str): The path to the directory containing the file.\\n        path (os.PathLike[str] | str): The path to the file within the directory.\\n        **kwargs: Additional keyword arguments to be passed to werkzeug.utils.send_from_directory.\\n\\n    Returns:\\n        Response: A response object containing the sent file.\\n\\n    Raises:\\n        ValueError: If the provided directory or path is invalid.\\n    \"\"\"\"\"\"\\n    return werkzeug.utils.send_from_directory(  # type: ignore[return-value]\\n        directory. path. **_prepare_send_file_kwargs(**kwargs)\\n    )'\n",
      "------\n",
      " '\"\"\"\"\"\"\\nReturns the maximum cookie size.\\n\\nIf running within an application context. returns the value from `current_app.config[\"\"MAX_COOKIE_SIZE\"\"]`.\\nOtherwise. falls back to Werkzeug\\'s default.'\n",
      "------\n",
      " '\"\"\"\"\"\"\\nWrapper function to ensure synchronous execution of the application.\\n\\nThis function takes in variable arguments and keyword arguments. \\nand returns the result of the application\\'s `ensure_sync` method.\\n\\nArgs:\\n    *args (t.Any): Variable positional arguments.\\n    **kwargs (t.Any): Variable keyword arguments.\\n\\nReturns:\\n    t.Any: The result of the application\\'s `ensure_sync` method.\\n\"\"\"\"\"\"\\ndef wrapper(*args: t.Any. **kwargs: t.Any) -> t.Any:\\n    with ctx:  # type: ignore[union-attr]\\n        return ctx.app.ensure_sync(f)(*args. **kwargs)  # type: ignore[union-attr]'\n",
      "------\n",
      " '\"\"\"\"\"\"\\nReturns a TextIO object that can be used to stream WSGI error messages.\\n\\nIf the `request` object is available. it returns the `wsgi.errors` attribute of the request environment.\\nOtherwise. it falls back to printing to the standard error stream (`sys.stderr`). \\n\\nThis function is intended for use in web frameworks that support WSGI. such as Django or Pyramid.'\n",
      "------\n",
      " 'def find_package(import_name: str) -> tuple[str | None. str]:\\n    \"\"\"\"\"\"\\n    Finds the path to a Python package.\\n\\n    Args:\\n    import_name (str): The name of the package to find.\\n\\n    Returns:\\n    A tuple containing the prefix and path to the package. If the package is not installed.\\n    returns (None. package_path).\\n\\n    Note:\\n    This function uses internal implementation details and should not be used directly.\\n    It\\'s intended for use by other parts of the Python interpreter or tools that need to\\n    find packages.\\n\\n    Raises:\\n    None\\n\\n    Examples:\\n    >>> find_package(\"\"numpy\"\")\\n    (\\'/usr/lib/python3.9/site-packages\\'. \\'/usr/lib/python3.9/site-packages/numpy\\')\\n    \"\"\"\"\"\"\\n\\n    package_path = _find_package_path(import_name)\\n    py_prefix = os.path.abspath(sys.prefix)\\n\\n    # installed to the system\\n    if _path_is_relative_to(pathlib.PurePath(package_path). py_prefix):\\n        return py_prefix. package_path\\n\\n    site_parent. site_folder = os.path.split(package_path)\\n\\n    # installed to a virtualenv\\n    if site_folder.lower() == \"\"site-packages\"\":\\n        parent. folder = os.path.split(site_parent)\\n\\n        # Windows (prefix/lib/site-packages)\\n        if folder.lower() == \"\"lib\"\":\\n            return parent. package_path\\n\\n        # Unix (prefix/lib/pythonX.Y/site-packages)\\n        if os.path.basename(parent).lower() == \"\"lib\"\":\\n            return os.path.dirname(parent). package_path\\n\\n        # something else (prefix/site-packages)\\n        return site_parent. package_path\\n\\n    # not installed\\n    return None. package_path'\n",
      "------\n",
      "\"\"\"\n",
      "Opens a new session for the given Flask application and request.\n",
      "\n",
      "Args:\n",
      "    app (Flask): The Flask application instance.\n",
      "    request (Request): The HTTP request object.\n",
      "\n",
      "Returns:\n",
      "    SecureCookieSession | None: The opened session, or None if creation fails.\n"
     ]
    }
   ],
   "source": [
    "failed_rows = dfs[dfs['Success'] == False]\n",
    "sample_dfs = failed_rows.sample(min(10, (max(1,int(total*0.2)))))\n",
    "for _,row in sample_dfs.iterrows():\n",
    "    print(\"------\")\n",
    "    print(row['Comment'])\n"
   ]
  },
  {
   "cell_type": "markdown",
   "id": "b2d30b9f",
   "metadata": {},
   "source": [
    "## Semantic Score"
   ]
  },
  {
   "cell_type": "code",
   "execution_count": 318,
   "id": "8e0ecbf4",
   "metadata": {},
   "outputs": [],
   "source": [
    "#Load the dataset:\n",
    "df = pd.read_csv('results/master/semantic_score.csv')"
   ]
  },
  {
   "cell_type": "code",
   "execution_count": 319,
   "id": "eaf61a1c",
   "metadata": {},
   "outputs": [
    {
     "data": {
      "text/plain": [
       "(210, 6)"
      ]
     },
     "execution_count": 319,
     "metadata": {},
     "output_type": "execute_result"
    }
   ],
   "source": [
    "df.shape"
   ]
  },
  {
   "cell_type": "code",
   "execution_count": 320,
   "id": "d77e1741",
   "metadata": {},
   "outputs": [
    {
     "data": {
      "text/plain": [
       "(117, 6)"
      ]
     },
     "execution_count": 320,
     "metadata": {},
     "output_type": "execute_result"
    }
   ],
   "source": [
    "df = df[~df.duplicated(subset=['Semantic-Score', 'Original-Comment', 'Agent-Comment'], keep='first')]\n",
    "df.shape"
   ]
  },
  {
   "cell_type": "code",
   "execution_count": 321,
   "id": "0b4321c4",
   "metadata": {},
   "outputs": [
    {
     "data": {
      "text/html": [
       "<div>\n",
       "<style scoped>\n",
       "    .dataframe tbody tr th:only-of-type {\n",
       "        vertical-align: middle;\n",
       "    }\n",
       "\n",
       "    .dataframe tbody tr th {\n",
       "        vertical-align: top;\n",
       "    }\n",
       "\n",
       "    .dataframe thead th {\n",
       "        text-align: right;\n",
       "    }\n",
       "</style>\n",
       "<table border=\"1\" class=\"dataframe\">\n",
       "  <thead>\n",
       "    <tr style=\"text-align: right;\">\n",
       "      <th></th>\n",
       "      <th>Semantic-Score</th>\n",
       "      <th>Code</th>\n",
       "      <th>Original-Comment</th>\n",
       "      <th>Agent-Comment</th>\n",
       "      <th>Filename</th>\n",
       "      <th>Agent-Commit</th>\n",
       "    </tr>\n",
       "  </thead>\n",
       "  <tbody>\n",
       "    <tr>\n",
       "      <th>0</th>\n",
       "      <td>0.653213</td>\n",
       "      <td>def get_debug_flag</td>\n",
       "      <td>\"\"\"Get whether debug mode should be enabled fo...</td>\n",
       "      <td>\"\"\"\\nReturns a boolean indicating whether debu...</td>\n",
       "      <td>src/flask/helpers.py</td>\n",
       "      <td>aa4ecf05d33c37d9cc04794f4332b34c94fd6d9e</td>\n",
       "    </tr>\n",
       "    <tr>\n",
       "      <th>1</th>\n",
       "      <td>0.593159</td>\n",
       "      <td>def dump</td>\n",
       "      <td>\"\"\"Serialize data as JSON and write to a file....</td>\n",
       "      <td>\"\"\"\\nDumps the provided object to a file strea...</td>\n",
       "      <td>src/flask/json/__init__.py</td>\n",
       "      <td>aa4ecf05d33c37d9cc04794f4332b34c94fd6d9e</td>\n",
       "    </tr>\n",
       "    <tr>\n",
       "      <th>2</th>\n",
       "      <td>0.600225</td>\n",
       "      <td>def loads</td>\n",
       "      <td>\"\"\"Deserialize data as JSON.\\n\\n    If :data:`...</td>\n",
       "      <td>\"\"\"\\nLoads JSON data from a string or bytes ob...</td>\n",
       "      <td>src/flask/json/__init__.py</td>\n",
       "      <td>aa4ecf05d33c37d9cc04794f4332b34c94fd6d9e</td>\n",
       "    </tr>\n",
       "    <tr>\n",
       "      <th>3</th>\n",
       "      <td>0.691807</td>\n",
       "      <td>def load</td>\n",
       "      <td>\"\"\"Deserialize data as JSON read from a file.\\...</td>\n",
       "      <td>\"\"\"\\nLoads JSON data from a file.\\n\\nThis func...</td>\n",
       "      <td>src/flask/json/__init__.py</td>\n",
       "      <td>aa4ecf05d33c37d9cc04794f4332b34c94fd6d9e</td>\n",
       "    </tr>\n",
       "    <tr>\n",
       "      <th>4</th>\n",
       "      <td>0.626986</td>\n",
       "      <td>def response</td>\n",
       "      <td>\"\"\"Serialize the given arguments as JSON, and ...</td>\n",
       "      <td>\"\"\"\\nReturns a response object with the prepar...</td>\n",
       "      <td>src/flask/json/provider.py</td>\n",
       "      <td>aa4ecf05d33c37d9cc04794f4332b34c94fd6d9e</td>\n",
       "    </tr>\n",
       "  </tbody>\n",
       "</table>\n",
       "</div>"
      ],
      "text/plain": [
       "   Semantic-Score                Code  \\\n",
       "0        0.653213  def get_debug_flag   \n",
       "1        0.593159            def dump   \n",
       "2        0.600225           def loads   \n",
       "3        0.691807            def load   \n",
       "4        0.626986        def response   \n",
       "\n",
       "                                    Original-Comment  \\\n",
       "0  \"\"\"Get whether debug mode should be enabled fo...   \n",
       "1  \"\"\"Serialize data as JSON and write to a file....   \n",
       "2  \"\"\"Deserialize data as JSON.\\n\\n    If :data:`...   \n",
       "3  \"\"\"Deserialize data as JSON read from a file.\\...   \n",
       "4  \"\"\"Serialize the given arguments as JSON, and ...   \n",
       "\n",
       "                                       Agent-Comment  \\\n",
       "0  \"\"\"\\nReturns a boolean indicating whether debu...   \n",
       "1  \"\"\"\\nDumps the provided object to a file strea...   \n",
       "2  \"\"\"\\nLoads JSON data from a string or bytes ob...   \n",
       "3  \"\"\"\\nLoads JSON data from a file.\\n\\nThis func...   \n",
       "4  \"\"\"\\nReturns a response object with the prepar...   \n",
       "\n",
       "                     Filename                              Agent-Commit  \n",
       "0        src/flask/helpers.py  aa4ecf05d33c37d9cc04794f4332b34c94fd6d9e  \n",
       "1  src/flask/json/__init__.py  aa4ecf05d33c37d9cc04794f4332b34c94fd6d9e  \n",
       "2  src/flask/json/__init__.py  aa4ecf05d33c37d9cc04794f4332b34c94fd6d9e  \n",
       "3  src/flask/json/__init__.py  aa4ecf05d33c37d9cc04794f4332b34c94fd6d9e  \n",
       "4  src/flask/json/provider.py  aa4ecf05d33c37d9cc04794f4332b34c94fd6d9e  "
      ]
     },
     "execution_count": 321,
     "metadata": {},
     "output_type": "execute_result"
    }
   ],
   "source": [
    "df.head()"
   ]
  },
  {
   "cell_type": "code",
   "execution_count": 338,
   "id": "0d40debd",
   "metadata": {},
   "outputs": [
    {
     "data": {
      "text/plain": [
       "<Axes: >"
      ]
     },
     "execution_count": 338,
     "metadata": {},
     "output_type": "execute_result"
    },
    {
     "data": {
      "image/png": "[encoded data removed]",
      "text/plain": [
       "<Figure size 640x480 with 1 Axes>"
      ]
     },
     "metadata": {},
     "output_type": "display_data"
    }
   ],
   "source": [
    "#Draw histogram to see distribution\n",
    "df['Semantic-Score'].hist(bins=7)"
   ]
  },
  {
   "cell_type": "code",
   "execution_count": null,
   "id": "c729e2f3",
   "metadata": {},
   "outputs": [
    {
     "data": {
      "image/png": "[encoded data removed]",
      "text/plain": [
       "<Figure size 800x500 with 1 Axes>"
      ]
     },
     "metadata": {},
     "output_type": "display_data"
    }
   ],
   "source": [
    "import matplotlib.pyplot as plt\n",
    "\n",
    "# Create figure\n",
    "plt.figure(figsize=(8, 5))\n",
    "\n",
    "# Plot histogram\n",
    "df['Semantic-Score'].hist(bins=7)\n",
    "\n",
    "# Add labels (optional but recommended)\n",
    "plt.xlabel('Semantic-Score')\n",
    "plt.ylabel('Count')\n",
    "plt.title('Semantic Score Distribution')\n",
    "\n",
    "# # Save as PNG\n",
    "# plt.savefig('semantic_score_histogram.png', dpi=300, bbox_inches='tight')\n",
    "\n",
    "# Optionally display\n",
    "plt.show()"
   ]
  },
  {
   "cell_type": "markdown",
   "id": "48017741",
   "metadata": {},
   "source": [
    "We can see that it follows normal distribution"
   ]
  },
  {
   "cell_type": "code",
   "execution_count": 336,
   "id": "88646c74",
   "metadata": {},
   "outputs": [
    {
     "name": "stderr",
     "output_type": "stream",
     "text": [
      "/var/folders/m6/6rkrbj5n1y3gjb1b_ndclcl00000gn/T/ipykernel_85760/2389699327.py:4: FutureWarning: The default of observed=False is deprecated and will be changed to True in a future version of pandas. Pass observed=False to retain current behavior or observed=True to adopt the future default and silence this warning.\n",
      "  sample_df = df.groupby('Score-Bin', group_keys=False).apply(lambda x: x.sample(n=max(1, int(len(x) * n)), random_state=0))\n",
      "/var/folders/m6/6rkrbj5n1y3gjb1b_ndclcl00000gn/T/ipykernel_85760/2389699327.py:4: DeprecationWarning: DataFrameGroupBy.apply operated on the grouping columns. This behavior is deprecated, and in a future version of pandas the grouping columns will be excluded from the operation. Either pass `include_groups=False` to exclude the groupings or explicitly select the grouping columns after groupby to silence this warning.\n",
      "  sample_df = df.groupby('Score-Bin', group_keys=False).apply(lambda x: x.sample(n=max(1, int(len(x) * n)), random_state=0))\n"
     ]
    }
   ],
   "source": [
    "df['Score-Bin'] = pd.cut(df['Semantic-Score'], bins=7)\n",
    "# Sample from each bin\n",
    "n = 0.3\n",
    "sample_df = df.groupby('Score-Bin', group_keys=False).apply(lambda x: x.sample(n=max(1, int(len(x) * n)), random_state=0))\n",
    "sample_df = sample_df.reset_index(drop=True)\n",
    "sample_df['Label'] = ''\n",
    "\n"
   ]
  },
  {
   "cell_type": "code",
   "execution_count": 324,
   "id": "203cbb51",
   "metadata": {},
   "outputs": [
    {
     "data": {
      "text/plain": [
       "(33, 8)"
      ]
     },
     "execution_count": 324,
     "metadata": {},
     "output_type": "execute_result"
    }
   ],
   "source": [
    "sample_df.shape"
   ]
  },
  {
   "cell_type": "markdown",
   "id": "9eb18b8e",
   "metadata": {},
   "source": [
    "Iterate, and give labels 'L', 'M' or 'H' before continuing "
   ]
  },
  {
   "cell_type": "code",
   "execution_count": 325,
   "id": "1e34c891",
   "metadata": {},
   "outputs": [
    {
     "data": {
      "text/html": [
       "<div>\n",
       "<style scoped>\n",
       "    .dataframe tbody tr th:only-of-type {\n",
       "        vertical-align: middle;\n",
       "    }\n",
       "\n",
       "    .dataframe tbody tr th {\n",
       "        vertical-align: top;\n",
       "    }\n",
       "\n",
       "    .dataframe thead th {\n",
       "        text-align: right;\n",
       "    }\n",
       "</style>\n",
       "<table border=\"1\" class=\"dataframe\">\n",
       "  <thead>\n",
       "    <tr style=\"text-align: right;\">\n",
       "      <th></th>\n",
       "      <th>Semantic-Score</th>\n",
       "      <th>Original-Comment</th>\n",
       "      <th>Agent-Comment</th>\n",
       "      <th>Label</th>\n",
       "    </tr>\n",
       "  </thead>\n",
       "  <tbody>\n",
       "    <tr>\n",
       "      <th>0</th>\n",
       "      <td>0.475059</td>\n",
       "      <td>\"\"\"This is called at the end of each request, ...</td>\n",
       "      <td>\"\"\"\\nSaves a session.\\n\\nThis method is intend...</td>\n",
       "      <td></td>\n",
       "    </tr>\n",
       "    <tr>\n",
       "      <th>1</th>\n",
       "      <td>0.506016</td>\n",
       "      <td>\"\"\"This is called at the end of each request, ...</td>\n",
       "      <td>\"\"\"\\nSaves a session cookie to the client's br...</td>\n",
       "      <td></td>\n",
       "    </tr>\n",
       "    <tr>\n",
       "      <th>2</th>\n",
       "      <td>0.535671</td>\n",
       "      <td>\"\"\"The JSON encoder class to use. Defaults to\\...</td>\n",
       "      <td>\"\"\"\\nReturns the JSON encoder class for this a...</td>\n",
       "      <td></td>\n",
       "    </tr>\n",
       "    <tr>\n",
       "      <th>3</th>\n",
       "      <td>0.506016</td>\n",
       "      <td>\"\"\"This is called at the end of each request, ...</td>\n",
       "      <td>\"\"\"\\nSaves a session cookie to the client's br...</td>\n",
       "      <td></td>\n",
       "    </tr>\n",
       "    <tr>\n",
       "      <th>4</th>\n",
       "      <td>0.492957</td>\n",
       "      <td>\"\"\"This is called at the beginning of each req...</td>\n",
       "      <td>\"\"\"\\nOpens a new session for the given Flask a...</td>\n",
       "      <td></td>\n",
       "    </tr>\n",
       "    <tr>\n",
       "      <th>5</th>\n",
       "      <td>0.527224</td>\n",
       "      <td>\"\"\"This is called at the end of each request, ...</td>\n",
       "      <td>\"\"\"\\nSaves a session cookie to the client's br...</td>\n",
       "      <td></td>\n",
       "    </tr>\n",
       "    <tr>\n",
       "      <th>6</th>\n",
       "      <td>0.530938</td>\n",
       "      <td>\"\"\"Read-only view of the ``MAX_CONTENT_LENGTH`...</td>\n",
       "      <td>\"\"\"\\nReturns the maximum allowed content lengt...</td>\n",
       "      <td></td>\n",
       "    </tr>\n",
       "    <tr>\n",
       "      <th>7</th>\n",
       "      <td>0.592790</td>\n",
       "      <td>\"\"\"The default value for ``max_age`` for :func...</td>\n",
       "      <td>\"\"\"\\nDeprecation Notice:\\n\\nThe `send_file_max...</td>\n",
       "      <td></td>\n",
       "    </tr>\n",
       "    <tr>\n",
       "      <th>8</th>\n",
       "      <td>0.557319</td>\n",
       "      <td>\"\"\"Updates the values in the config from a Pyt...</td>\n",
       "      <td>\"\"\"\\nLoads a configuration from a Python file....</td>\n",
       "      <td></td>\n",
       "    </tr>\n",
       "    <tr>\n",
       "      <th>9</th>\n",
       "      <td>0.560126</td>\n",
       "      <td>\"\"\"Whether debug mode is enabled. When using `...</td>\n",
       "      <td>\"\"\"\\nReturns whether the debug mode is enabled...</td>\n",
       "      <td></td>\n",
       "    </tr>\n",
       "    <tr>\n",
       "      <th>10</th>\n",
       "      <td>0.590246</td>\n",
       "      <td>\"\"\"Request contexts disappear when the respons...</td>\n",
       "      <td>\"\"\"\\nStream a generator or function with conte...</td>\n",
       "      <td></td>\n",
       "    </tr>\n",
       "    <tr>\n",
       "      <th>11</th>\n",
       "      <td>0.564800</td>\n",
       "      <td>\"\"\"Send the contents of a file to the client.\\...</td>\n",
       "      <td>\"\"\"\\nSends a file to the client.\\n\\nThis funct...</td>\n",
       "      <td></td>\n",
       "    </tr>\n",
       "    <tr>\n",
       "      <th>12</th>\n",
       "      <td>0.556263</td>\n",
       "      <td>\"\"\"Return ``'Strict'`` or ``'Lax'`` if the coo...</td>\n",
       "      <td>\"\"\"\\nReturns the value of the 'SESSION_COOKIE_...</td>\n",
       "      <td></td>\n",
       "    </tr>\n",
       "    <tr>\n",
       "      <th>13</th>\n",
       "      <td>0.590246</td>\n",
       "      <td>\"\"\"Request contexts disappear when the respons...</td>\n",
       "      <td>\"\"\"\\nStream a generator or function with conte...</td>\n",
       "      <td></td>\n",
       "    </tr>\n",
       "    <tr>\n",
       "      <th>14</th>\n",
       "      <td>0.591367</td>\n",
       "      <td>\"\"\"The endpoint that matched the request URL.\\...</td>\n",
       "      <td>\"\"\"\\nReturns the URL rule's endpoint if availa...</td>\n",
       "      <td></td>\n",
       "    </tr>\n",
       "    <tr>\n",
       "      <th>15</th>\n",
       "      <td>0.608393</td>\n",
       "      <td>\"\"\"Given a filename this will try to calculate...</td>\n",
       "      <td>\"\"\"\\nPrepares the import path for a Python mod...</td>\n",
       "      <td></td>\n",
       "    </tr>\n",
       "    <tr>\n",
       "      <th>16</th>\n",
       "      <td>0.598133</td>\n",
       "      <td>\"\"\"Works like :meth:`record` but wraps the fun...</td>\n",
       "      <td>\"\"\"\\nRecords a function to be executed once du...</td>\n",
       "      <td></td>\n",
       "    </tr>\n",
       "    <tr>\n",
       "      <th>17</th>\n",
       "      <td>0.601796</td>\n",
       "      <td>\"\"\"The ``--key`` option must be specified when...</td>\n",
       "      <td>\"\"\"\\nValidate the key for a given certificate....</td>\n",
       "      <td></td>\n",
       "    </tr>\n",
       "    <tr>\n",
       "      <th>18</th>\n",
       "      <td>0.599835</td>\n",
       "      <td>\"\"\"Enable this to use the ``X-Sendfile`` featu...</td>\n",
       "      <td>\"\"\"\\nDeprecation Notice:\\n\\nThe `use_x_sendfil...</td>\n",
       "      <td></td>\n",
       "    </tr>\n",
       "    <tr>\n",
       "      <th>19</th>\n",
       "      <td>0.612413</td>\n",
       "      <td>\"\"\"Dispatches the request and on top of that p...</td>\n",
       "      <td>\"\"\"\\nDispatches the full request, including ru...</td>\n",
       "      <td></td>\n",
       "    </tr>\n",
       "    <tr>\n",
       "      <th>20</th>\n",
       "      <td>0.601585</td>\n",
       "      <td>\"\"\"Executes a function after this request.  Th...</td>\n",
       "      <td>\"\"\"\\nReturns a decorator that appends the prov...</td>\n",
       "      <td></td>\n",
       "    </tr>\n",
       "    <tr>\n",
       "      <th>21</th>\n",
       "      <td>0.627122</td>\n",
       "      <td>\"\"\"Wraps a callback so that it's guaranteed to...</td>\n",
       "      <td>\"\"\"\\nDecorates a function to run with the appl...</td>\n",
       "      <td></td>\n",
       "    </tr>\n",
       "    <tr>\n",
       "      <th>22</th>\n",
       "      <td>0.610766</td>\n",
       "      <td>\"\"\"The value of the ``Domain`` parameter on th...</td>\n",
       "      <td>\"\"\"\\nReturns the domain of the session cookie ...</td>\n",
       "      <td></td>\n",
       "    </tr>\n",
       "    <tr>\n",
       "      <th>23</th>\n",
       "      <td>0.608842</td>\n",
       "      <td>\"\"\"The absolute path to the configured static ...</td>\n",
       "      <td>\"\"\"\\nSets the static folder path.\\n\\nThis meth...</td>\n",
       "      <td></td>\n",
       "    </tr>\n",
       "    <tr>\n",
       "      <th>24</th>\n",
       "      <td>0.643834</td>\n",
       "      <td>\"\"\"Run an interactive Python shell in the cont...</td>\n",
       "      <td>\"\"\"\\nRun a Python shell with customized banner...</td>\n",
       "      <td></td>\n",
       "    </tr>\n",
       "    <tr>\n",
       "      <th>25</th>\n",
       "      <td>0.617183</td>\n",
       "      <td>\"\"\"Load \"dotenv\" files in order of precedence ...</td>\n",
       "      <td>\"\"\"\\nLoads environment variables from a .env o...</td>\n",
       "      <td></td>\n",
       "    </tr>\n",
       "    <tr>\n",
       "      <th>26</th>\n",
       "      <td>0.634112</td>\n",
       "      <td>\"\"\"Update the template context with some commo...</td>\n",
       "      <td>\"\"\"\\nUpdates the template context with additio...</td>\n",
       "      <td></td>\n",
       "    </tr>\n",
       "    <tr>\n",
       "      <th>27</th>\n",
       "      <td>0.691807</td>\n",
       "      <td>\"\"\"Deserialize data as JSON read from a file.\\...</td>\n",
       "      <td>\"\"\"\\nLoads JSON data from a file.\\n\\nThis func...</td>\n",
       "      <td></td>\n",
       "    </tr>\n",
       "    <tr>\n",
       "      <th>28</th>\n",
       "      <td>0.688539</td>\n",
       "      <td>\"\"\"Returns the path for which the cookie shoul...</td>\n",
       "      <td>\"\"\"\\nReturns the path of the cookie used by a ...</td>\n",
       "      <td></td>\n",
       "    </tr>\n",
       "    <tr>\n",
       "      <th>29</th>\n",
       "      <td>0.654519</td>\n",
       "      <td>\"\"\"A temporary directory added to sys.path.\"\"\"</td>\n",
       "      <td>\"\"\"\\nReturns a temporary path for modules.\\n\\n...</td>\n",
       "      <td></td>\n",
       "    </tr>\n",
       "    <tr>\n",
       "      <th>30</th>\n",
       "      <td>0.655934</td>\n",
       "      <td>\"\"\"Find the root path of a package, or the pat...</td>\n",
       "      <td>\"\"\"\\nReturns the root path of the given import...</td>\n",
       "      <td></td>\n",
       "    </tr>\n",
       "    <tr>\n",
       "      <th>31</th>\n",
       "      <td>0.682836</td>\n",
       "      <td>\"\"\"The name of the session cookie. Uses``app.c...</td>\n",
       "      <td>\"\"\"\\nReturns the name of the cookie used by th...</td>\n",
       "      <td></td>\n",
       "    </tr>\n",
       "    <tr>\n",
       "      <th>32</th>\n",
       "      <td>0.743081</td>\n",
       "      <td>\"\"\"Convert the value to a valid JSON type and ...</td>\n",
       "      <td>\"\"\"\\nConverts a given value to JSON format and...</td>\n",
       "      <td></td>\n",
       "    </tr>\n",
       "  </tbody>\n",
       "</table>\n",
       "</div>"
      ],
      "text/plain": [
       "    Semantic-Score                                   Original-Comment  \\\n",
       "0         0.475059  \"\"\"This is called at the end of each request, ...   \n",
       "1         0.506016  \"\"\"This is called at the end of each request, ...   \n",
       "2         0.535671  \"\"\"The JSON encoder class to use. Defaults to\\...   \n",
       "3         0.506016  \"\"\"This is called at the end of each request, ...   \n",
       "4         0.492957  \"\"\"This is called at the beginning of each req...   \n",
       "5         0.527224  \"\"\"This is called at the end of each request, ...   \n",
       "6         0.530938  \"\"\"Read-only view of the ``MAX_CONTENT_LENGTH`...   \n",
       "7         0.592790  \"\"\"The default value for ``max_age`` for :func...   \n",
       "8         0.557319  \"\"\"Updates the values in the config from a Pyt...   \n",
       "9         0.560126  \"\"\"Whether debug mode is enabled. When using `...   \n",
       "10        0.590246  \"\"\"Request contexts disappear when the respons...   \n",
       "11        0.564800  \"\"\"Send the contents of a file to the client.\\...   \n",
       "12        0.556263  \"\"\"Return ``'Strict'`` or ``'Lax'`` if the coo...   \n",
       "13        0.590246  \"\"\"Request contexts disappear when the respons...   \n",
       "14        0.591367  \"\"\"The endpoint that matched the request URL.\\...   \n",
       "15        0.608393  \"\"\"Given a filename this will try to calculate...   \n",
       "16        0.598133  \"\"\"Works like :meth:`record` but wraps the fun...   \n",
       "17        0.601796  \"\"\"The ``--key`` option must be specified when...   \n",
       "18        0.599835  \"\"\"Enable this to use the ``X-Sendfile`` featu...   \n",
       "19        0.612413  \"\"\"Dispatches the request and on top of that p...   \n",
       "20        0.601585  \"\"\"Executes a function after this request.  Th...   \n",
       "21        0.627122  \"\"\"Wraps a callback so that it's guaranteed to...   \n",
       "22        0.610766  \"\"\"The value of the ``Domain`` parameter on th...   \n",
       "23        0.608842  \"\"\"The absolute path to the configured static ...   \n",
       "24        0.643834  \"\"\"Run an interactive Python shell in the cont...   \n",
       "25        0.617183  \"\"\"Load \"dotenv\" files in order of precedence ...   \n",
       "26        0.634112  \"\"\"Update the template context with some commo...   \n",
       "27        0.691807  \"\"\"Deserialize data as JSON read from a file.\\...   \n",
       "28        0.688539  \"\"\"Returns the path for which the cookie shoul...   \n",
       "29        0.654519     \"\"\"A temporary directory added to sys.path.\"\"\"   \n",
       "30        0.655934  \"\"\"Find the root path of a package, or the pat...   \n",
       "31        0.682836  \"\"\"The name of the session cookie. Uses``app.c...   \n",
       "32        0.743081  \"\"\"Convert the value to a valid JSON type and ...   \n",
       "\n",
       "                                        Agent-Comment Label  \n",
       "0   \"\"\"\\nSaves a session.\\n\\nThis method is intend...        \n",
       "1   \"\"\"\\nSaves a session cookie to the client's br...        \n",
       "2   \"\"\"\\nReturns the JSON encoder class for this a...        \n",
       "3   \"\"\"\\nSaves a session cookie to the client's br...        \n",
       "4   \"\"\"\\nOpens a new session for the given Flask a...        \n",
       "5   \"\"\"\\nSaves a session cookie to the client's br...        \n",
       "6   \"\"\"\\nReturns the maximum allowed content lengt...        \n",
       "7   \"\"\"\\nDeprecation Notice:\\n\\nThe `send_file_max...        \n",
       "8   \"\"\"\\nLoads a configuration from a Python file....        \n",
       "9   \"\"\"\\nReturns whether the debug mode is enabled...        \n",
       "10  \"\"\"\\nStream a generator or function with conte...        \n",
       "11  \"\"\"\\nSends a file to the client.\\n\\nThis funct...        \n",
       "12  \"\"\"\\nReturns the value of the 'SESSION_COOKIE_...        \n",
       "13  \"\"\"\\nStream a generator or function with conte...        \n",
       "14  \"\"\"\\nReturns the URL rule's endpoint if availa...        \n",
       "15  \"\"\"\\nPrepares the import path for a Python mod...        \n",
       "16  \"\"\"\\nRecords a function to be executed once du...        \n",
       "17  \"\"\"\\nValidate the key for a given certificate....        \n",
       "18  \"\"\"\\nDeprecation Notice:\\n\\nThe `use_x_sendfil...        \n",
       "19  \"\"\"\\nDispatches the full request, including ru...        \n",
       "20  \"\"\"\\nReturns a decorator that appends the prov...        \n",
       "21  \"\"\"\\nDecorates a function to run with the appl...        \n",
       "22  \"\"\"\\nReturns the domain of the session cookie ...        \n",
       "23  \"\"\"\\nSets the static folder path.\\n\\nThis meth...        \n",
       "24  \"\"\"\\nRun a Python shell with customized banner...        \n",
       "25  \"\"\"\\nLoads environment variables from a .env o...        \n",
       "26  \"\"\"\\nUpdates the template context with additio...        \n",
       "27  \"\"\"\\nLoads JSON data from a file.\\n\\nThis func...        \n",
       "28  \"\"\"\\nReturns the path of the cookie used by a ...        \n",
       "29  \"\"\"\\nReturns a temporary path for modules.\\n\\n...        \n",
       "30  \"\"\"\\nReturns the root path of the given import...        \n",
       "31  \"\"\"\\nReturns the name of the cookie used by th...        \n",
       "32  \"\"\"\\nConverts a given value to JSON format and...        "
      ]
     },
     "execution_count": 325,
     "metadata": {},
     "output_type": "execute_result"
    }
   ],
   "source": [
    "sample_df[sample_df['Label'] == ''][['Semantic-Score','Original-Comment', 'Agent-Comment', 'Label']]"
   ]
  },
  {
   "cell_type": "code",
   "execution_count": 326,
   "id": "a901e535",
   "metadata": {},
   "outputs": [
    {
     "name": "stdout",
     "output_type": "stream",
     "text": [
      "-- LABEL --\n",
      "\n",
      "-- Original Comment --\n",
      "\"\"\"This is called at the end of each request, after generating\n",
      "        a response, before removing the request context. It is skipped\n",
      "        if :meth:`is_null_session` returns ``True``.\n",
      "        \"\"\"\n",
      "-- Agent Comment --\n",
      "\"\"\"\n",
      "Saves a session cookie to the client's browser.\n",
      "\n",
      "This method sets a session cookie based on the provided `app`, `session`, and `response` objects.\n",
      "It determines the necessary cookie attributes (name, domain, path, secure, samesite, httponly) using\n",
      "the `get_cookie_name`, `get_cookie_domain`, `get_cookie_path`, `get_cookie_secure`, \n",
      "`get_cookie_samesite`, and `get_cookie_httponly` methods.\n",
      "\n",
      "If the session was accessed at all, a \"Vary: Cookie\" header is added to the response.\n",
      "If the session is modified or empty, the cookie is removed or not set respectively.\n",
      "Otherwise, if the session should be set as a cookie according to the `should_set_cookie` method,\n",
      "the necessary attributes are determined and the cookie is set.\n",
      "\n",
      "Parameters:\n",
      "app (Flask): The Flask application instance.\n",
      "session (SessionMixin): The session object.\n",
      "response (Response): The response object.\n",
      "\n",
      "Returns:\n",
      "None\n",
      "\"\"\"\n"
     ]
    }
   ],
   "source": [
    "n = 1\n",
    "\n",
    "print(\"\"\"-- LABEL --\"\"\")\n",
    "print(sample_df.iloc[n][\"Label\"])\n",
    "print(\"\"\"-- Original Comment --\"\"\")\n",
    "print(sample_df.iloc[n][\"Original-Comment\"])\n",
    "print(\"\"\"-- Agent Comment --\"\"\")\n",
    "print(sample_df.iloc[n][\"Agent-Comment\"])"
   ]
  },
  {
   "cell_type": "code",
   "execution_count": 327,
   "id": "fe3aaddd",
   "metadata": {},
   "outputs": [],
   "source": [
    "sample_df.iloc[7,7] = \"\""
   ]
  },
  {
   "cell_type": "markdown",
   "id": "7fa6ab19",
   "metadata": {},
   "source": [
    "NOW WE HAVE LABELED ALL THE SAMPLE"
   ]
  },
  {
   "cell_type": "code",
   "execution_count": 328,
   "id": "49549d76",
   "metadata": {},
   "outputs": [
    {
     "data": {
      "text/html": [
       "<div>\n",
       "<style scoped>\n",
       "    .dataframe tbody tr th:only-of-type {\n",
       "        vertical-align: middle;\n",
       "    }\n",
       "\n",
       "    .dataframe tbody tr th {\n",
       "        vertical-align: top;\n",
       "    }\n",
       "\n",
       "    .dataframe thead th {\n",
       "        text-align: right;\n",
       "    }\n",
       "</style>\n",
       "<table border=\"1\" class=\"dataframe\">\n",
       "  <thead>\n",
       "    <tr style=\"text-align: right;\">\n",
       "      <th></th>\n",
       "      <th>Label</th>\n",
       "      <th>Mean</th>\n",
       "      <th>Std_Dev</th>\n",
       "      <th>Min</th>\n",
       "      <th>Q1</th>\n",
       "      <th>Median</th>\n",
       "      <th>Q3</th>\n",
       "      <th>Max</th>\n",
       "    </tr>\n",
       "  </thead>\n",
       "  <tbody>\n",
       "    <tr>\n",
       "      <th>0</th>\n",
       "      <td></td>\n",
       "      <td>0.59569</td>\n",
       "      <td>0.061097</td>\n",
       "      <td>0.475059</td>\n",
       "      <td>0.557319</td>\n",
       "      <td>0.599835</td>\n",
       "      <td>0.627122</td>\n",
       "      <td>0.743081</td>\n",
       "    </tr>\n",
       "  </tbody>\n",
       "</table>\n",
       "</div>"
      ],
      "text/plain": [
       "  Label     Mean   Std_Dev       Min        Q1    Median        Q3       Max\n",
       "0        0.59569  0.061097  0.475059  0.557319  0.599835  0.627122  0.743081"
      ]
     },
     "execution_count": 328,
     "metadata": {},
     "output_type": "execute_result"
    }
   ],
   "source": [
    "summary = sample_df.groupby('Label')['Semantic-Score'].agg(\n",
    "    Mean='mean',\n",
    "    Std_Dev='std',\n",
    "    Min='min',\n",
    "    Q1=lambda x: x.quantile(0.25),\n",
    "    Median='median',\n",
    "    Q3=lambda x: x.quantile(0.75),\n",
    "    Max='max'\n",
    ").reset_index()\n",
    "summary"
   ]
  },
  {
   "cell_type": "code",
   "execution_count": 345,
   "id": "05d1439f",
   "metadata": {},
   "outputs": [],
   "source": [
    "## Get Q3 of L and Q1 of M\n",
    "# l_q3 = summary.loc[summary['Label'] == 'L', 'Q3'].values[0]\n",
    "# m_q1 = summary.loc[summary['Label'] == 'M', 'Q1'].values[0]\n",
    "# threshold_L_M = (l_q3 + m_q1) / 2\n",
    "\n",
    "# # Get Q3 of M and Q1 of H\n",
    "# m_q3 = summary.loc[summary['Label'] == 'M', 'Q3'].values[0]\n",
    "# h_q1 = summary.loc[summary['Label'] == 'H', 'Q1'].values[0]\n",
    "# threshold_M_H = (m_q3 + h_q1) / 2\n",
    "\n",
    "## Show results\n",
    "# low_medium = round(threshold_L_M, 3)\n",
    "# medium_high = round(threshold_M_H, 3)\n",
    "\n",
    "low_medium = 0.45\n",
    "medium_high = 0.65"
   ]
  },
  {
   "cell_type": "code",
   "execution_count": 346,
   "metadata": {},
   "outputs": [
    {
     "data": {
      "image/png": "[encoded data removed]",
      "text/plain": [
       "<Figure size 800x600 with 1 Axes>"
      ]
     },
     "metadata": {},
     "output_type": "display_data"
    }
   ],
   "source": [
    "#Create boxplot\n",
    "stats = df[\"Semantic-Score\"].describe()\n",
    "q1 = stats['25%']\n",
    "median = stats['50%']\n",
    "q3 = stats['75%']\n",
    "min_val = stats['min']\n",
    "max_val = stats['max']\n",
    "count = df[\"Semantic-Score\"].count()\n",
    "\n",
    "plt.figure(figsize=(8, 6))\n",
    "df[\"Semantic-Score\"].plot.box()\n",
    "plt.title(\"Box plot of semantic score\")\n",
    "plt.text(1.3, df['Semantic-Score'].median(), f'n = {count}', ha='left', va='center')\n",
    "# Add annotations for Q1, Median, Q3\n",
    "plt.text(1.1, q1, f'Q1: {q1:.4f}', va='center', ha='left', fontsize=9, bbox=dict(facecolor='lightgray', edgecolor='none'))\n",
    "plt.text(1.1, median, f'Median: {median:.4f}', va='center', ha='left', fontsize=9, bbox=dict(facecolor='lightgray', edgecolor='none'))\n",
    "plt.text(1.1, q3, f'Q3: {q3:.4f}', va='center', ha='left', fontsize=9, bbox=dict(facecolor='lightgray', edgecolor='none'))\n",
    "\n",
    "# Add min/max as well if you like\n",
    "plt.text(1.05, min_val, f'Min: {min_val:.4f}', va='center', ha='left', fontsize=8, bbox=dict(facecolor='lightblue', edgecolor='none'))\n",
    "plt.text(1.05, max_val, f'Max: {max_val:.4f}', va='center', ha='left', fontsize=8, bbox=dict(facecolor='lightblue', edgecolor='none'))\n",
    "\n",
    "plt.axhline(y=low_medium, color='red', linestyle='--', linewidth=1, label='Low-Medium Threshold')\n",
    "plt.axhline(y=medium_high, color='green', linestyle='--', linewidth=1, label='Medium-High Threshold')\n",
    "\n",
    "plt.show()\n",
    "# plt.savefig(\"semantic_score_box_plot.png\")"
   ]
  }
 ],
 "metadata": {
  "kernelspec": {
   "display_name": ".venv",
   "language": "python",
   "name": "python3"
  },
  "language_info": {
   "codemirror_mode": {
    "name": "ipython",
    "version": 3
   },
   "file_extension": ".py",
   "mimetype": "text/x-python",
   "name": "python",
   "nbconvert_exporter": "python",
   "pygments_lexer": "ipython3",
   "version": "3.11.11"
  }
 },
 "nbformat": 4,
 "nbformat_minor": 5
}
