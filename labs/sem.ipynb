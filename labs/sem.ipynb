{
 "cells": [
  {
   "cell_type": "code",
   "execution_count": 242,
   "metadata": {},
   "outputs": [],
   "source": [
    "import pandas as pd\n",
    "import numpy as np"
   ]
  },
  {
   "cell_type": "markdown",
   "id": "9ec9cb62",
   "metadata": {},
   "source": [
    "## Format ratio"
   ]
  },
  {
   "cell_type": "code",
   "execution_count": 243,
   "id": "3b38cfe9",
   "metadata": {},
   "outputs": [],
   "source": [
    "# #Load the dataset:\n",
    "dfs = pd.read_csv('results/master/success_rate.csv', on_bad_lines='warn')\n",
    "\n",
    "\n",
    "\n",
    "import csv\n",
    "\n",
    "\n",
    "# with open('results/master/success_rate.csv', newline='', encoding='utf-8') as f:\n",
    "#     reader = csv.reader(f)\n",
    "#     rows = list(reader)\n",
    "#     for row in rows:\n",
    "#         print(row)\n",
    "\n",
    "\n"
   ]
  },
  {
   "cell_type": "code",
   "execution_count": 244,
   "id": "40ba0125",
   "metadata": {},
   "outputs": [
    {
     "data": {
      "text/plain": [
       "Success\n",
       "True     96\n",
       "False    57\n",
       "Name: count, dtype: int64"
      ]
     },
     "execution_count": 244,
     "metadata": {},
     "output_type": "execute_result"
    }
   ],
   "source": [
    "dfs['Success'].value_counts()"
   ]
  },
  {
   "cell_type": "code",
   "execution_count": 245,
   "id": "3f0687f7",
   "metadata": {},
   "outputs": [
    {
     "name": "stdout",
     "output_type": "stream",
     "text": [
      "Ratio success: 96/153\n"
     ]
    }
   ],
   "source": [
    "success = dfs['Success'].value_counts()[True]\n",
    "fail = dfs['Success'].value_counts()[False]\n",
    "total = len(dfs)\n",
    "\n",
    "print(f\"Ratio success: {success}/{total}\")"
   ]
  },
  {
   "cell_type": "markdown",
   "id": "d21937e6",
   "metadata": {},
   "source": [
    "Random print some of the False.\n"
   ]
  },
  {
   "cell_type": "code",
   "execution_count": 254,
   "id": "7ce13a11",
   "metadata": {},
   "outputs": [
    {
     "name": "stdout",
     "output_type": "stream",
     "text": [
      "------\n",
      "\"\"\"\n",
      "Test session using server name, port and path.\n",
      "\n",
      "This function tests the creation of a Flask session using the `server_name`, \n",
      "`application_root` configuration options. It verifies that the session is \n",
      "correctly set with the expected domain, path, and HTTP-only flags in the \n",
      "set-cookie header.\n",
      "\n",
      "Parameters:\n",
      "    app (Flask application): The Flask application instance.\n",
      "    client (requests Session): The requests session instance.\n",
      "\n",
      "Returns:\n",
      "    None\n",
      "\"\"\"\n",
      "def test_session_using_server_name_port_and_path(app, client):\n",
      "------\n",
      "\"\"\"\n",
      "Raises a RuntimeError indicating that the session is unavailable due to an unconfigured secret key.\n",
      "\n",
      "Args:\n",
      "    *args: Variable length argument list.\n",
      "    **kwargs: Arbitrary keyword arguments.\n",
      "\n",
      "Returns:\n",
      "    te.NoReturn: An exception indicating that the function cannot be continued due to an error.\n",
      "------\n",
      "\"\"\"\n",
      "Returns the expiration time of a Flask session.\n",
      "\n",
      "If the session is permanent, returns the current UTC time plus the permanent session lifetime.\n",
      "Otherwise, returns None.\n",
      "\n",
      "Args:\n",
      "    self: The instance of the class that this method belongs to (not used in this implementation).\n",
      "    app: A Flask application object.\n",
      "    session: A SessionMixin object representing the session.\n",
      "\n",
      "Returns:\n",
      "    datetime: The expiration time of the session, or None if the session is not permanent.\n",
      "------\n",
      "\"\"\"\n",
      "Determines whether a cookie should be set based on the session's modification status and configuration.\n",
      "\n",
      "Args:\n",
      "    - `app`: The Flask application instance.\n",
      "    - `session`: The session mixin instance.\n",
      "\n",
      "Returns:\n",
      "    bool: True if a cookie should be set, False otherwise.\n",
      "------\n",
      "def from_pyfile(self, filename: str | os.PathLike, silent: bool = False) -> bool:\n",
      "    \"\"\"\n",
      "    Loads a configuration file from a Python file.\n",
      "\n",
      "    Args:\n",
      "    - filename (str | os.PathLike): The path to the configuration file.\n",
      "    - silent (bool, optional): If True, returns False if the file does not exist or is not a directory. Defaults to False.\n",
      "\n",
      "    Returns:\n",
      "    - bool: Whether the configuration was loaded successfully.\n",
      "    \"\"\"\n",
      "    filename = os.path.join(self.root_path, filename)\n",
      "    d = types.ModuleType(\"config\")\n",
      "    d.__file__ = filename\n",
      "    try:\n",
      "        with open(filename, mode=\"rb\") as config_file:\n",
      "            exec(compile(config_file.read(), filename, \"exec\"), d.__dict__)\n",
      "    except OSError as e:\n",
      "        if silent and e.errno in (errno.ENOENT, errno.EISDIR, errno.ENOTDIR):\n",
      "            return False\n",
      "        e.strerror = f\"Unable to load configuration file ({e.strerror})\"\n",
      "        raise\n",
      "    self.from_object(d)\n",
      "    return True\n",
      "------\n",
      "\"\"\"\n",
      "Opens a new session for the given Flask application and request.\n",
      "\n",
      "Args:\n",
      "    - `app`: The Flask application instance.\n",
      "    - `request`: The HTTP request object.\n",
      "\n",
      "Returns:\n",
      "    An optional SessionMixin object, indicating whether a session was successfully opened. If not implemented by subclasses, raises NotImplementedError.\n",
      "\n",
      "Raises:\n",
      "    NotImplementedError: If the method is not implemented by subclasses.\n",
      "------\n",
      "def make_response(self, rv: ft.ResponseReturnValue) -> Response:\n",
      "    \"\"\"\n",
      "    Creates a response object from the given view function result.\n",
      "\n",
      "    The response object is created based on the type of the view function result.\n",
      "    If the result is a tuple, it is unpacked into body, status, and headers.\n",
      "    If the result is None, a TypeError is raised.\n",
      "    If the result is not an instance of the response class, it is converted to\n",
      "    the correct type.\n",
      "\n",
      "    Args:\n",
      "        rv: The view function result.\n",
      "\n",
      "    Returns:\n",
      "        A Response object.\n",
      "\n",
      "    Raises:\n",
      "        TypeError: If the view function did not return a valid response tuple,\n",
      "            or if the result is None.\n",
      "    \"\"\"\n",
      "------\n",
      "\"\"\"\n",
      "Determines whether a cookie should be set based on the Flask application's configuration.\n",
      "\n",
      "Args:\n",
      "    - `app`: The Flask application instance.\n",
      "    - `session`: A SessionMixin object representing the current session.\n",
      "\n",
      "Returns:\n",
      "    bool: True if a cookie should be set, False otherwise.\n",
      "------\n",
      "\"\"\"\n",
      "Opens a new session for the given Flask application and request.\n",
      "\n",
      "Args:\n",
      "    app (Flask): The Flask application instance.\n",
      "    request (Request): The HTTP request object.\n",
      "\n",
      "Returns:\n",
      "    t.Optional[SecureCookieSession]: The opened session, or None if creation fails.\n",
      "------\n",
      "def test_session_path(app, client):\n",
      "    \"\"\"\n",
      "    Test session using server name.\n",
      "\n",
      "    This function tests the functionality of Flask's session handling when using a server name.\n",
      "    It updates the session with a value and then checks if the session is correctly set for the domain specified by the `SERVER_NAME` configuration variable.\n",
      "\n",
      "    Parameters:\n",
      "        app (Flask application): The Flask application instance to use for testing.\n",
      "        client (requests Session): A requests session object used to make HTTP requests.\n",
      "\n",
      "    Returns:\n",
      "        None\n",
      "    \"\"\"\n"
     ]
    }
   ],
   "source": [
    "failed_rows = dfs[dfs['Success'] == False]\n",
    "sample_dfs = failed_rows.sample(min(10, (max(1,int(total*0.2)))))\n",
    "for _,row in sample_dfs.iterrows():\n",
    "    print(\"------\")\n",
    "    print(row['Comment'])\n"
   ]
  },
  {
   "cell_type": "markdown",
   "id": "b2d30b9f",
   "metadata": {},
   "source": [
    "## Semantic Score"
   ]
  },
  {
   "cell_type": "code",
   "execution_count": 274,
   "id": "8e0ecbf4",
   "metadata": {},
   "outputs": [],
   "source": [
    "#Load the dataset:\n",
    "df = pd.read_csv('results/master/semantic_score.csv')"
   ]
  },
  {
   "cell_type": "code",
   "execution_count": 275,
   "id": "eaf61a1c",
   "metadata": {},
   "outputs": [
    {
     "data": {
      "text/plain": [
       "(136, 6)"
      ]
     },
     "execution_count": 275,
     "metadata": {},
     "output_type": "execute_result"
    }
   ],
   "source": [
    "df.shape"
   ]
  },
  {
   "cell_type": "code",
   "execution_count": 276,
   "id": "d77e1741",
   "metadata": {},
   "outputs": [
    {
     "data": {
      "text/plain": [
       "(56, 6)"
      ]
     },
     "execution_count": 276,
     "metadata": {},
     "output_type": "execute_result"
    }
   ],
   "source": [
    "df = df[~df.duplicated(subset=['Semantic-Score', 'Original-Comment', 'Agent-Comment'], keep='first')]\n",
    "df.shape"
   ]
  },
  {
   "cell_type": "code",
   "execution_count": 277,
   "id": "0b4321c4",
   "metadata": {},
   "outputs": [
    {
     "data": {
      "text/html": [
       "<div>\n",
       "<style scoped>\n",
       "    .dataframe tbody tr th:only-of-type {\n",
       "        vertical-align: middle;\n",
       "    }\n",
       "\n",
       "    .dataframe tbody tr th {\n",
       "        vertical-align: top;\n",
       "    }\n",
       "\n",
       "    .dataframe thead th {\n",
       "        text-align: right;\n",
       "    }\n",
       "</style>\n",
       "<table border=\"1\" class=\"dataframe\">\n",
       "  <thead>\n",
       "    <tr style=\"text-align: right;\">\n",
       "      <th></th>\n",
       "      <th>Semantic-Score</th>\n",
       "      <th>Code</th>\n",
       "      <th>Original-Comment</th>\n",
       "      <th>Agent-Comment</th>\n",
       "      <th>Filename</th>\n",
       "      <th>Agent-Commit</th>\n",
       "    </tr>\n",
       "  </thead>\n",
       "  <tbody>\n",
       "    <tr>\n",
       "      <th>0</th>\n",
       "      <td>0.653213</td>\n",
       "      <td>def get_debug_flag</td>\n",
       "      <td>\"\"\"Get whether debug mode should be enabled fo...</td>\n",
       "      <td>\"\"\"\\nReturns a boolean indicating whether debu...</td>\n",
       "      <td>src/flask/helpers.py</td>\n",
       "      <td>aa4ecf05d33c37d9cc04794f4332b34c94fd6d9e</td>\n",
       "    </tr>\n",
       "    <tr>\n",
       "      <th>1</th>\n",
       "      <td>0.593159</td>\n",
       "      <td>def dump</td>\n",
       "      <td>\"\"\"Serialize data as JSON and write to a file....</td>\n",
       "      <td>\"\"\"\\nDumps the provided object to a file strea...</td>\n",
       "      <td>src/flask/json/__init__.py</td>\n",
       "      <td>aa4ecf05d33c37d9cc04794f4332b34c94fd6d9e</td>\n",
       "    </tr>\n",
       "    <tr>\n",
       "      <th>2</th>\n",
       "      <td>0.600225</td>\n",
       "      <td>def loads</td>\n",
       "      <td>\"\"\"Deserialize data as JSON.\\n\\n    If :data:`...</td>\n",
       "      <td>\"\"\"\\nLoads JSON data from a string or bytes ob...</td>\n",
       "      <td>src/flask/json/__init__.py</td>\n",
       "      <td>aa4ecf05d33c37d9cc04794f4332b34c94fd6d9e</td>\n",
       "    </tr>\n",
       "    <tr>\n",
       "      <th>3</th>\n",
       "      <td>0.691807</td>\n",
       "      <td>def load</td>\n",
       "      <td>\"\"\"Deserialize data as JSON read from a file.\\...</td>\n",
       "      <td>\"\"\"\\nLoads JSON data from a file.\\n\\nThis func...</td>\n",
       "      <td>src/flask/json/__init__.py</td>\n",
       "      <td>aa4ecf05d33c37d9cc04794f4332b34c94fd6d9e</td>\n",
       "    </tr>\n",
       "    <tr>\n",
       "      <th>4</th>\n",
       "      <td>0.626986</td>\n",
       "      <td>def response</td>\n",
       "      <td>\"\"\"Serialize the given arguments as JSON, and ...</td>\n",
       "      <td>\"\"\"\\nReturns a response object with the prepar...</td>\n",
       "      <td>src/flask/json/provider.py</td>\n",
       "      <td>aa4ecf05d33c37d9cc04794f4332b34c94fd6d9e</td>\n",
       "    </tr>\n",
       "  </tbody>\n",
       "</table>\n",
       "</div>"
      ],
      "text/plain": [
       "   Semantic-Score                Code  \\\n",
       "0        0.653213  def get_debug_flag   \n",
       "1        0.593159            def dump   \n",
       "2        0.600225           def loads   \n",
       "3        0.691807            def load   \n",
       "4        0.626986        def response   \n",
       "\n",
       "                                    Original-Comment  \\\n",
       "0  \"\"\"Get whether debug mode should be enabled fo...   \n",
       "1  \"\"\"Serialize data as JSON and write to a file....   \n",
       "2  \"\"\"Deserialize data as JSON.\\n\\n    If :data:`...   \n",
       "3  \"\"\"Deserialize data as JSON read from a file.\\...   \n",
       "4  \"\"\"Serialize the given arguments as JSON, and ...   \n",
       "\n",
       "                                       Agent-Comment  \\\n",
       "0  \"\"\"\\nReturns a boolean indicating whether debu...   \n",
       "1  \"\"\"\\nDumps the provided object to a file strea...   \n",
       "2  \"\"\"\\nLoads JSON data from a string or bytes ob...   \n",
       "3  \"\"\"\\nLoads JSON data from a file.\\n\\nThis func...   \n",
       "4  \"\"\"\\nReturns a response object with the prepar...   \n",
       "\n",
       "                     Filename                              Agent-Commit  \n",
       "0        src/flask/helpers.py  aa4ecf05d33c37d9cc04794f4332b34c94fd6d9e  \n",
       "1  src/flask/json/__init__.py  aa4ecf05d33c37d9cc04794f4332b34c94fd6d9e  \n",
       "2  src/flask/json/__init__.py  aa4ecf05d33c37d9cc04794f4332b34c94fd6d9e  \n",
       "3  src/flask/json/__init__.py  aa4ecf05d33c37d9cc04794f4332b34c94fd6d9e  \n",
       "4  src/flask/json/provider.py  aa4ecf05d33c37d9cc04794f4332b34c94fd6d9e  "
      ]
     },
     "execution_count": 277,
     "metadata": {},
     "output_type": "execute_result"
    }
   ],
   "source": [
    "df.head()"
   ]
  },
  {
   "cell_type": "code",
   "execution_count": 279,
   "id": "0d40debd",
   "metadata": {},
   "outputs": [
    {
     "data": {
      "text/plain": [
       "<Axes: >"
      ]
     },
     "execution_count": 279,
     "metadata": {},
     "output_type": "execute_result"
    },
    {
     "data": {
      "image/png": "[encoded data removed]",
      "text/plain": [
       "<Figure size 640x480 with 1 Axes>"
      ]
     },
     "metadata": {},
     "output_type": "display_data"
    }
   ],
   "source": [
    "#Draw histogram to see distribution\n",
    "df['Semantic-Score'].hist(bins=6)"
   ]
  },
  {
   "cell_type": "markdown",
   "metadata": {},
   "source": [
    "We can see that it follows normal distribution"
   ]
  },
  {
   "cell_type": "code",
   "execution_count": 265,
   "metadata": {},
   "outputs": [
    {
     "ename": "DTypePromotionError",
     "evalue": "The DType <class 'numpy.dtypes._PyFloatDType'> could not be promoted by <class 'numpy.dtypes.StrDType'>. This means that no common DType exists for the given inputs. For example they cannot be stored in a single array unless the dtype is `object`. The full list of DTypes is: (<class 'numpy.dtypes.StrDType'>, <class 'numpy.dtypes.StrDType'>, <class 'numpy.dtypes._PyFloatDType'>)",
     "output_type": "error",
     "traceback": [
      "\u001b[31m---------------------------------------------------------------------------\u001b[39m",
      "\u001b[31mDTypePromotionError\u001b[39m                       Traceback (most recent call last)",
      "\u001b[36mCell\u001b[39m\u001b[36m \u001b[39m\u001b[32mIn[265]\u001b[39m\u001b[32m, line 1\u001b[39m\n\u001b[32m----> \u001b[39m\u001b[32m1\u001b[39m df[\u001b[33m'\u001b[39m\u001b[33mScore-Bin\u001b[39m\u001b[33m'\u001b[39m] = \u001b[43mpd\u001b[49m\u001b[43m.\u001b[49m\u001b[43mcut\u001b[49m\u001b[43m(\u001b[49m\u001b[43mdf\u001b[49m\u001b[43m[\u001b[49m\u001b[33;43m'\u001b[39;49m\u001b[33;43mSemantic-Score\u001b[39;49m\u001b[33;43m'\u001b[39;49m\u001b[43m]\u001b[49m\u001b[43m,\u001b[49m\u001b[43m \u001b[49m\u001b[43mbins\u001b[49m\u001b[43m=\u001b[49m\u001b[32;43m6\u001b[39;49m\u001b[43m)\u001b[49m\n\u001b[32m      2\u001b[39m \u001b[38;5;66;03m# Sample from each bin\u001b[39;00m\n\u001b[32m      3\u001b[39m n = \u001b[32m0.3\u001b[39m\n",
      "\u001b[36mFile \u001b[39m\u001b[32m~/SWU/6semester/DocTide/.venv/lib/python3.11/site-packages/pandas/core/reshape/tile.py:246\u001b[39m, in \u001b[36mcut\u001b[39m\u001b[34m(x, bins, right, labels, retbins, precision, include_lowest, duplicates, ordered)\u001b[39m\n\u001b[32m    243\u001b[39m x_idx, _ = _coerce_to_type(x_idx)\n\u001b[32m    245\u001b[39m \u001b[38;5;28;01mif\u001b[39;00m \u001b[38;5;129;01mnot\u001b[39;00m np.iterable(bins):\n\u001b[32m--> \u001b[39m\u001b[32m246\u001b[39m     bins = \u001b[43m_nbins_to_bins\u001b[49m\u001b[43m(\u001b[49m\u001b[43mx_idx\u001b[49m\u001b[43m,\u001b[49m\u001b[43m \u001b[49m\u001b[43mbins\u001b[49m\u001b[43m,\u001b[49m\u001b[43m \u001b[49m\u001b[43mright\u001b[49m\u001b[43m)\u001b[49m\n\u001b[32m    248\u001b[39m \u001b[38;5;28;01melif\u001b[39;00m \u001b[38;5;28misinstance\u001b[39m(bins, IntervalIndex):\n\u001b[32m    249\u001b[39m     \u001b[38;5;28;01mif\u001b[39;00m bins.is_overlapping:\n",
      "\u001b[36mFile \u001b[39m\u001b[32m~/SWU/6semester/DocTide/.venv/lib/python3.11/site-packages/pandas/core/reshape/tile.py:403\u001b[39m, in \u001b[36m_nbins_to_bins\u001b[39m\u001b[34m(x_idx, nbins, right)\u001b[39m\n\u001b[32m    399\u001b[39m     bins = x_idx._values._generate_range(  \u001b[38;5;66;03m# type: ignore[union-attr]\u001b[39;00m\n\u001b[32m    400\u001b[39m         start=mn, end=mx, periods=nbins + \u001b[32m1\u001b[39m, freq=\u001b[38;5;28;01mNone\u001b[39;00m, unit=unit\n\u001b[32m    401\u001b[39m     )\n\u001b[32m    402\u001b[39m \u001b[38;5;28;01melse\u001b[39;00m:\n\u001b[32m--> \u001b[39m\u001b[32m403\u001b[39m     bins = \u001b[43mnp\u001b[49m\u001b[43m.\u001b[49m\u001b[43mlinspace\u001b[49m\u001b[43m(\u001b[49m\u001b[43mmn\u001b[49m\u001b[43m,\u001b[49m\u001b[43m \u001b[49m\u001b[43mmx\u001b[49m\u001b[43m,\u001b[49m\u001b[43m \u001b[49m\u001b[43mnbins\u001b[49m\u001b[43m \u001b[49m\u001b[43m+\u001b[49m\u001b[43m \u001b[49m\u001b[32;43m1\u001b[39;49m\u001b[43m,\u001b[49m\u001b[43m \u001b[49m\u001b[43mendpoint\u001b[49m\u001b[43m=\u001b[49m\u001b[38;5;28;43;01mTrue\u001b[39;49;00m\u001b[43m)\u001b[49m\n\u001b[32m    404\u001b[39m adj = (mx - mn) * \u001b[32m0.001\u001b[39m  \u001b[38;5;66;03m# 0.1% of the range\u001b[39;00m\n\u001b[32m    405\u001b[39m \u001b[38;5;28;01mif\u001b[39;00m right:\n",
      "\u001b[36mFile \u001b[39m\u001b[32m~/SWU/6semester/DocTide/.venv/lib/python3.11/site-packages/numpy/_core/function_base.py:130\u001b[39m, in \u001b[36mlinspace\u001b[39m\u001b[34m(start, stop, num, endpoint, retstep, dtype, axis, device)\u001b[39m\n\u001b[32m    128\u001b[39m conv = _array_converter(start, stop)\n\u001b[32m    129\u001b[39m start, stop = conv.as_arrays()\n\u001b[32m--> \u001b[39m\u001b[32m130\u001b[39m dt = \u001b[43mconv\u001b[49m\u001b[43m.\u001b[49m\u001b[43mresult_type\u001b[49m\u001b[43m(\u001b[49m\u001b[43mensure_inexact\u001b[49m\u001b[43m=\u001b[49m\u001b[38;5;28;43;01mTrue\u001b[39;49;00m\u001b[43m)\u001b[49m\n\u001b[32m    132\u001b[39m \u001b[38;5;28;01mif\u001b[39;00m dtype \u001b[38;5;129;01mis\u001b[39;00m \u001b[38;5;28;01mNone\u001b[39;00m:\n\u001b[32m    133\u001b[39m     dtype = dt\n",
      "\u001b[31mDTypePromotionError\u001b[39m: The DType <class 'numpy.dtypes._PyFloatDType'> could not be promoted by <class 'numpy.dtypes.StrDType'>. This means that no common DType exists for the given inputs. For example they cannot be stored in a single array unless the dtype is `object`. The full list of DTypes is: (<class 'numpy.dtypes.StrDType'>, <class 'numpy.dtypes.StrDType'>, <class 'numpy.dtypes._PyFloatDType'>)"
     ]
    }
   ],
   "source": [
    "df['Score-Bin'] = pd.cut(df['Semantic-Score'], bins=6)\n",
    "# Sample from each bin\n",
    "n = 0.3\n",
    "sample_df = df.groupby('Score-Bin', group_keys=False).apply(lambda x: x.sample(n=max(1, int(len(x) * n)), random_state=0))\n",
    "sample_df = sample_df.reset_index(drop=True)\n",
    "sample_df['Label'] = ''\n",
    "\n"
   ]
  },
  {
   "cell_type": "code",
   "execution_count": null,
   "metadata": {},
   "outputs": [
    {
     "data": {
      "text/plain": [
       "(8, 8)"
      ]
     },
     "execution_count": 126,
     "metadata": {},
     "output_type": "execute_result"
    }
   ],
   "source": [
    "sample_df.shape"
   ]
  },
  {
   "cell_type": "markdown",
   "metadata": {},
   "source": [
    "Iterate, and give labels 'L', 'M' or 'H' before continuing "
   ]
  },
  {
   "cell_type": "code",
   "execution_count": null,
   "metadata": {},
   "outputs": [
    {
     "data": {
      "text/html": [
       "<div>\n",
       "<style scoped>\n",
       "    .dataframe tbody tr th:only-of-type {\n",
       "        vertical-align: middle;\n",
       "    }\n",
       "\n",
       "    .dataframe tbody tr th {\n",
       "        vertical-align: top;\n",
       "    }\n",
       "\n",
       "    .dataframe thead th {\n",
       "        text-align: right;\n",
       "    }\n",
       "</style>\n",
       "<table border=\"1\" class=\"dataframe\">\n",
       "  <thead>\n",
       "    <tr style=\"text-align: right;\">\n",
       "      <th></th>\n",
       "      <th>Semantic-Score</th>\n",
       "      <th>Original-Comment</th>\n",
       "      <th>Agent-Comment</th>\n",
       "      <th>Label</th>\n",
       "    </tr>\n",
       "  </thead>\n",
       "  <tbody>\n",
       "    <tr>\n",
       "      <th>0</th>\n",
       "      <td>0.434890</td>\n",
       "      <td>\"\"\"The Jinja environment used to load template...</td>\n",
       "      <td>\"\"\"\\nReturns an instance of Jinja2's Environme...</td>\n",
       "      <td></td>\n",
       "    </tr>\n",
       "    <tr>\n",
       "      <th>1</th>\n",
       "      <td>0.512154</td>\n",
       "      <td>\"\"\"Reload templates when they are changed. Use...</td>\n",
       "      <td>\"\"\"\\nReturns the value of `TEMPLATES_AUTO_RELO...</td>\n",
       "      <td></td>\n",
       "    </tr>\n",
       "    <tr>\n",
       "      <th>2</th>\n",
       "      <td>0.579308</td>\n",
       "      <td>\"\"\"Determine if the given string is an IP addr...</td>\n",
       "      <td>\"\"\"\\nChecks if the provided string is a valid ...</td>\n",
       "      <td></td>\n",
       "    </tr>\n",
       "    <tr>\n",
       "      <th>3</th>\n",
       "      <td>0.599835</td>\n",
       "      <td>\"\"\"Enable this to use the ``X-Sendfile`` featu...</td>\n",
       "      <td>\"\"\"\\nDeprecation Notice:\\n\\nThe `use_x_sendfil...</td>\n",
       "      <td></td>\n",
       "    </tr>\n",
       "    <tr>\n",
       "      <th>4</th>\n",
       "      <td>0.612413</td>\n",
       "      <td>\"\"\"Dispatches the request and on top of that p...</td>\n",
       "      <td>\"\"\"\\nDispatches the full request, including ru...</td>\n",
       "      <td></td>\n",
       "    </tr>\n",
       "    <tr>\n",
       "      <th>5</th>\n",
       "      <td>0.606191</td>\n",
       "      <td>\"\"\"This attribute is set to ``True`` if the ap...</td>\n",
       "      <td>\"\"\"\\nDeprecation Notice: `got_first_request` i...</td>\n",
       "      <td></td>\n",
       "    </tr>\n",
       "    <tr>\n",
       "      <th>6</th>\n",
       "      <td>0.646095</td>\n",
       "      <td>\"\"\"The JSON encoder class to use. Defaults to\\...</td>\n",
       "      <td>\"\"\"\\nDeprecation Warning: `json_encoder` is de...</td>\n",
       "      <td></td>\n",
       "    </tr>\n",
       "    <tr>\n",
       "      <th>7</th>\n",
       "      <td>0.737521</td>\n",
       "      <td>\"\"\"The name of the cookie set by the session i...</td>\n",
       "      <td>\"\"\"\\nReturns the name of the session cookie.\\n...</td>\n",
       "      <td></td>\n",
       "    </tr>\n",
       "  </tbody>\n",
       "</table>\n",
       "</div>"
      ],
      "text/plain": [
       "   Semantic-Score                                   Original-Comment  \\\n",
       "0        0.434890  \"\"\"The Jinja environment used to load template...   \n",
       "1        0.512154  \"\"\"Reload templates when they are changed. Use...   \n",
       "2        0.579308  \"\"\"Determine if the given string is an IP addr...   \n",
       "3        0.599835  \"\"\"Enable this to use the ``X-Sendfile`` featu...   \n",
       "4        0.612413  \"\"\"Dispatches the request and on top of that p...   \n",
       "5        0.606191  \"\"\"This attribute is set to ``True`` if the ap...   \n",
       "6        0.646095  \"\"\"The JSON encoder class to use. Defaults to\\...   \n",
       "7        0.737521  \"\"\"The name of the cookie set by the session i...   \n",
       "\n",
       "                                       Agent-Comment Label  \n",
       "0  \"\"\"\\nReturns an instance of Jinja2's Environme...        \n",
       "1  \"\"\"\\nReturns the value of `TEMPLATES_AUTO_RELO...        \n",
       "2  \"\"\"\\nChecks if the provided string is a valid ...        \n",
       "3  \"\"\"\\nDeprecation Notice:\\n\\nThe `use_x_sendfil...        \n",
       "4  \"\"\"\\nDispatches the full request, including ru...        \n",
       "5  \"\"\"\\nDeprecation Notice: `got_first_request` i...        \n",
       "6  \"\"\"\\nDeprecation Warning: `json_encoder` is de...        \n",
       "7  \"\"\"\\nReturns the name of the session cookie.\\n...        "
      ]
     },
     "execution_count": 146,
     "metadata": {},
     "output_type": "execute_result"
    }
   ],
   "source": [
    "sample_df[sample_df['Label'] == ''][['Semantic-Score','Original-Comment', 'Agent-Comment', 'Label']]"
   ]
  },
  {
   "cell_type": "code",
   "execution_count": null,
   "metadata": {},
   "outputs": [
    {
     "name": "stdout",
     "output_type": "stream",
     "text": [
      "-- LABEL --\n",
      "L\n",
      "-- Original Comment --\n",
      "\"\"\"Reload templates when they are changed. Used by\n",
      "        :meth:`create_jinja_environment`. It is enabled by default in debug mode.\n",
      "\n",
      "        .. deprecated:: 2.2\n",
      "            Will be removed in Flask 2.3. Use ``app.config[\"TEMPLATES_AUTO_RELOAD\"]``\n",
      "            instead.\n",
      "\n",
      "        .. versionadded:: 1.0\n",
      "            This property was added but the underlying config and behavior\n",
      "            already existed.\n",
      "        \"\"\"\n",
      "-- Agent Comment --\n",
      "\"\"\"\n",
      "Returns the value of `TEMPLATES_AUTO_RELOAD` from the application configuration.\n",
      "\n",
      "If `TEMPLATES_AUTO_RELOAD` is set, its value is returned. Otherwise, the value of `debug` is used as a fallback.\n",
      "\n",
      "Deprecated since Flask 2.3 in favor of using `TEMPLATES_AUTO_RELOAD` in `app.config`.\n",
      "\n",
      "Args:\n",
      "    None\n",
      "\n",
      "Returns:\n",
      "    bool: The value of `TEMPLATES_AUTO_RELOAD` or `debug` if not set.\n",
      "\"\"\"\n"
     ]
    }
   ],
   "source": [
    "n = 1\n",
    "\n",
    "print(\"\"\"-- LABEL --\"\"\")\n",
    "print(sample_df.iloc[n][\"Label\"])\n",
    "print(\"\"\"-- Original Comment --\"\"\")\n",
    "print(sample_df.iloc[n][\"Original-Comment\"])\n",
    "print(\"\"\"-- Agent Comment --\"\"\")\n",
    "print(sample_df.iloc[n][\"Agent-Comment\"])"
   ]
  },
  {
   "cell_type": "code",
   "execution_count": null,
   "metadata": {},
   "outputs": [],
   "source": [
    "sample_df.iloc[7,7] = \"H\""
   ]
  },
  {
   "cell_type": "markdown",
   "metadata": {},
   "source": [
    "NOW WE HAVE LABELED ALL THE SAMPLE"
   ]
  },
  {
   "cell_type": "code",
   "execution_count": null,
   "metadata": {},
   "outputs": [
    {
     "data": {
      "text/html": [
       "<div>\n",
       "<style scoped>\n",
       "    .dataframe tbody tr th:only-of-type {\n",
       "        vertical-align: middle;\n",
       "    }\n",
       "\n",
       "    .dataframe tbody tr th {\n",
       "        vertical-align: top;\n",
       "    }\n",
       "\n",
       "    .dataframe thead th {\n",
       "        text-align: right;\n",
       "    }\n",
       "</style>\n",
       "<table border=\"1\" class=\"dataframe\">\n",
       "  <thead>\n",
       "    <tr style=\"text-align: right;\">\n",
       "      <th></th>\n",
       "      <th>Label</th>\n",
       "      <th>Mean</th>\n",
       "      <th>Std_Dev</th>\n",
       "      <th>Min</th>\n",
       "      <th>Q1</th>\n",
       "      <th>Median</th>\n",
       "      <th>Q3</th>\n",
       "      <th>Max</th>\n",
       "    </tr>\n",
       "  </thead>\n",
       "  <tbody>\n",
       "    <tr>\n",
       "      <th>0</th>\n",
       "      <td>H</td>\n",
       "      <td>0.671856</td>\n",
       "      <td>0.092864</td>\n",
       "      <td>0.606191</td>\n",
       "      <td>0.639024</td>\n",
       "      <td>0.671856</td>\n",
       "      <td>0.704689</td>\n",
       "      <td>0.737521</td>\n",
       "    </tr>\n",
       "    <tr>\n",
       "      <th>1</th>\n",
       "      <td>L</td>\n",
       "      <td>0.515626</td>\n",
       "      <td>0.082527</td>\n",
       "      <td>0.434890</td>\n",
       "      <td>0.473522</td>\n",
       "      <td>0.512154</td>\n",
       "      <td>0.555994</td>\n",
       "      <td>0.599835</td>\n",
       "    </tr>\n",
       "    <tr>\n",
       "      <th>2</th>\n",
       "      <td>M</td>\n",
       "      <td>0.612605</td>\n",
       "      <td>0.033394</td>\n",
       "      <td>0.579308</td>\n",
       "      <td>0.595860</td>\n",
       "      <td>0.612413</td>\n",
       "      <td>0.629254</td>\n",
       "      <td>0.646095</td>\n",
       "    </tr>\n",
       "  </tbody>\n",
       "</table>\n",
       "</div>"
      ],
      "text/plain": [
       "  Label      Mean   Std_Dev       Min        Q1    Median        Q3       Max\n",
       "0     H  0.671856  0.092864  0.606191  0.639024  0.671856  0.704689  0.737521\n",
       "1     L  0.515626  0.082527  0.434890  0.473522  0.512154  0.555994  0.599835\n",
       "2     M  0.612605  0.033394  0.579308  0.595860  0.612413  0.629254  0.646095"
      ]
     },
     "execution_count": 155,
     "metadata": {},
     "output_type": "execute_result"
    }
   ],
   "source": [
    "summary = sample_df.groupby('Label')['Semantic-Score'].agg(\n",
    "    Mean='mean',\n",
    "    Std_Dev='std',\n",
    "    Min='min',\n",
    "    Q1=lambda x: x.quantile(0.25),\n",
    "    Median='median',\n",
    "    Q3=lambda x: x.quantile(0.75),\n",
    "    Max='max'\n",
    ").reset_index()\n",
    "summary"
   ]
  },
  {
   "cell_type": "code",
   "execution_count": null,
   "metadata": {},
   "outputs": [
    {
     "name": "stdout",
     "output_type": "stream",
     "text": [
      "Threshold between L and M: 0.576\n",
      "Threshold between M and H: 0.634\n"
     ]
    }
   ],
   "source": [
    "# Get Q3 of L and Q1 of M\n",
    "l_q3 = summary.loc[summary['Label'] == 'L', 'Q3'].values[0]\n",
    "m_q1 = summary.loc[summary['Label'] == 'M', 'Q1'].values[0]\n",
    "threshold_L_M = (l_q3 + m_q1) / 2\n",
    "\n",
    "# Get Q3 of M and Q1 of H\n",
    "m_q3 = summary.loc[summary['Label'] == 'M', 'Q3'].values[0]\n",
    "h_q1 = summary.loc[summary['Label'] == 'H', 'Q1'].values[0]\n",
    "threshold_M_H = (m_q3 + h_q1) / 2\n",
    "\n",
    "# Show results\n",
    "print(\"Threshold between L and M:\", round(threshold_L_M, 3))\n",
    "print(\"Threshold between M and H:\", round(threshold_M_H, 3))"
   ]
  }
 ],
 "metadata": {
  "kernelspec": {
   "display_name": ".venv",
   "language": "python",
   "name": "python3"
  },
  "language_info": {
   "codemirror_mode": {
    "name": "ipython",
    "version": 3
   },
   "file_extension": ".py",
   "mimetype": "text/x-python",
   "name": "python",
   "nbconvert_exporter": "python",
   "pygments_lexer": "ipython3",
   "version": "3.11.11"
  }
 },
 "nbformat": 4,
 "nbformat_minor": 5
}
