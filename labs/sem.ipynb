{
 "cells": [
  {
   "cell_type": "code",
   "execution_count": 96,
   "metadata": {},
   "outputs": [],
   "source": [
    "import pandas as pd\n",
    "import numpy as np"
   ]
  },
  {
   "cell_type": "markdown",
   "metadata": {},
   "source": [
    "## Format ratio"
   ]
  },
  {
   "cell_type": "code",
   "execution_count": 173,
   "metadata": {},
   "outputs": [],
   "source": [
    "#Load the dataset:\n",
    "dfs = pd.read_csv('test_success.csv')"
   ]
  },
  {
   "cell_type": "code",
   "execution_count": 174,
   "metadata": {},
   "outputs": [
    {
     "name": "stdout",
     "output_type": "stream",
     "text": [
      "Ratio success: 2/5\n"
     ]
    }
   ],
   "source": [
    "success = dfs['Success'].value_counts()[True]\n",
    "fail = dfs['Success'].value_counts()[False]\n",
    "total = len(dfs)\n",
    "\n",
    "print(f\"Ratio success: {success}/{total}\")"
   ]
  },
  {
   "cell_type": "markdown",
   "metadata": {},
   "source": [
    "Random print some of the False.\n"
   ]
  },
  {
   "cell_type": "code",
   "execution_count": 193,
   "metadata": {},
   "outputs": [
    {
     "name": "stdout",
     "output_type": "stream",
     "text": [
      " \"Forfeited did law eagerness allowance improving assurance bed. Had saw put seven joy short first. Pronounce so enjoyment my resembled in forfeited sportsman. Which vexed did began son abode short may. Interested astonished he at cultivated or me. Nor brought one invited she produce her.\"\n"
     ]
    }
   ],
   "source": [
    "sample_dfs = dfs.sample(min(10, (max(1,int(total*0.1)))))\n",
    "for _,row in sample_dfs.iterrows():\n",
    "    print(row['Comment'])\n"
   ]
  },
  {
   "cell_type": "markdown",
   "metadata": {},
   "source": [
    "## Semantic Score"
   ]
  },
  {
   "cell_type": "code",
   "execution_count": 97,
   "metadata": {},
   "outputs": [],
   "source": [
    "#Load the dataset:\n",
    "df = pd.read_csv('semantic_score.csv')"
   ]
  },
  {
   "cell_type": "code",
   "execution_count": 98,
   "metadata": {},
   "outputs": [
    {
     "data": {
      "text/plain": [
       "(97, 6)"
      ]
     },
     "execution_count": 98,
     "metadata": {},
     "output_type": "execute_result"
    }
   ],
   "source": [
    "df.shape"
   ]
  },
  {
   "cell_type": "code",
   "execution_count": 99,
   "metadata": {},
   "outputs": [
    {
     "data": {
      "text/plain": [
       "(33, 6)"
      ]
     },
     "execution_count": 99,
     "metadata": {},
     "output_type": "execute_result"
    }
   ],
   "source": [
    "df = df[~df.duplicated(subset=['Semantic-Score', 'Original-Comment', 'Agent-Comment'], keep='first')]\n",
    "df.shape"
   ]
  },
  {
   "cell_type": "code",
   "execution_count": 100,
   "metadata": {},
   "outputs": [
    {
     "data": {
      "text/html": [
       "<div>\n",
       "<style scoped>\n",
       "    .dataframe tbody tr th:only-of-type {\n",
       "        vertical-align: middle;\n",
       "    }\n",
       "\n",
       "    .dataframe tbody tr th {\n",
       "        vertical-align: top;\n",
       "    }\n",
       "\n",
       "    .dataframe thead th {\n",
       "        text-align: right;\n",
       "    }\n",
       "</style>\n",
       "<table border=\"1\" class=\"dataframe\">\n",
       "  <thead>\n",
       "    <tr style=\"text-align: right;\">\n",
       "      <th></th>\n",
       "      <th>Semantic-Score</th>\n",
       "      <th>Code</th>\n",
       "      <th>Original-Comment</th>\n",
       "      <th>Agent-Comment</th>\n",
       "      <th>Filename</th>\n",
       "      <th>Agent-Commit</th>\n",
       "    </tr>\n",
       "  </thead>\n",
       "  <tbody>\n",
       "    <tr>\n",
       "      <th>0</th>\n",
       "      <td>0.653213</td>\n",
       "      <td>def get_debug_flag</td>\n",
       "      <td>\"\"\"Get whether debug mode should be enabled fo...</td>\n",
       "      <td>\"\"\"\\nReturns a boolean indicating whether debu...</td>\n",
       "      <td>src/flask/helpers.py</td>\n",
       "      <td>aa4ecf05d33c37d9cc04794f4332b34c94fd6d9e</td>\n",
       "    </tr>\n",
       "    <tr>\n",
       "      <th>1</th>\n",
       "      <td>0.593159</td>\n",
       "      <td>def dump</td>\n",
       "      <td>\"\"\"Serialize data as JSON and write to a file....</td>\n",
       "      <td>\"\"\"\\nDumps the provided object to a file strea...</td>\n",
       "      <td>src/flask/json/__init__.py</td>\n",
       "      <td>aa4ecf05d33c37d9cc04794f4332b34c94fd6d9e</td>\n",
       "    </tr>\n",
       "    <tr>\n",
       "      <th>2</th>\n",
       "      <td>0.600225</td>\n",
       "      <td>def loads</td>\n",
       "      <td>\"\"\"Deserialize data as JSON.\\n\\n    If :data:`...</td>\n",
       "      <td>\"\"\"\\nLoads JSON data from a string or bytes ob...</td>\n",
       "      <td>src/flask/json/__init__.py</td>\n",
       "      <td>aa4ecf05d33c37d9cc04794f4332b34c94fd6d9e</td>\n",
       "    </tr>\n",
       "    <tr>\n",
       "      <th>3</th>\n",
       "      <td>0.691807</td>\n",
       "      <td>def load</td>\n",
       "      <td>\"\"\"Deserialize data as JSON read from a file.\\...</td>\n",
       "      <td>\"\"\"\\nLoads JSON data from a file.\\n\\nThis func...</td>\n",
       "      <td>src/flask/json/__init__.py</td>\n",
       "      <td>aa4ecf05d33c37d9cc04794f4332b34c94fd6d9e</td>\n",
       "    </tr>\n",
       "    <tr>\n",
       "      <th>4</th>\n",
       "      <td>0.626986</td>\n",
       "      <td>def response</td>\n",
       "      <td>\"\"\"Serialize the given arguments as JSON, and ...</td>\n",
       "      <td>\"\"\"\\nReturns a response object with the prepar...</td>\n",
       "      <td>src/flask/json/provider.py</td>\n",
       "      <td>aa4ecf05d33c37d9cc04794f4332b34c94fd6d9e</td>\n",
       "    </tr>\n",
       "  </tbody>\n",
       "</table>\n",
       "</div>"
      ],
      "text/plain": [
       "   Semantic-Score                Code  \\\n",
       "0        0.653213  def get_debug_flag   \n",
       "1        0.593159            def dump   \n",
       "2        0.600225           def loads   \n",
       "3        0.691807            def load   \n",
       "4        0.626986        def response   \n",
       "\n",
       "                                    Original-Comment  \\\n",
       "0  \"\"\"Get whether debug mode should be enabled fo...   \n",
       "1  \"\"\"Serialize data as JSON and write to a file....   \n",
       "2  \"\"\"Deserialize data as JSON.\\n\\n    If :data:`...   \n",
       "3  \"\"\"Deserialize data as JSON read from a file.\\...   \n",
       "4  \"\"\"Serialize the given arguments as JSON, and ...   \n",
       "\n",
       "                                       Agent-Comment  \\\n",
       "0  \"\"\"\\nReturns a boolean indicating whether debu...   \n",
       "1  \"\"\"\\nDumps the provided object to a file strea...   \n",
       "2  \"\"\"\\nLoads JSON data from a string or bytes ob...   \n",
       "3  \"\"\"\\nLoads JSON data from a file.\\n\\nThis func...   \n",
       "4  \"\"\"\\nReturns a response object with the prepar...   \n",
       "\n",
       "                     Filename                              Agent-Commit  \n",
       "0        src/flask/helpers.py  aa4ecf05d33c37d9cc04794f4332b34c94fd6d9e  \n",
       "1  src/flask/json/__init__.py  aa4ecf05d33c37d9cc04794f4332b34c94fd6d9e  \n",
       "2  src/flask/json/__init__.py  aa4ecf05d33c37d9cc04794f4332b34c94fd6d9e  \n",
       "3  src/flask/json/__init__.py  aa4ecf05d33c37d9cc04794f4332b34c94fd6d9e  \n",
       "4  src/flask/json/provider.py  aa4ecf05d33c37d9cc04794f4332b34c94fd6d9e  "
      ]
     },
     "execution_count": 100,
     "metadata": {},
     "output_type": "execute_result"
    }
   ],
   "source": [
    "df.head()"
   ]
  },
  {
   "cell_type": "code",
   "execution_count": 101,
   "metadata": {},
   "outputs": [
    {
     "data": {
      "text/plain": [
       "<Axes: >"
      ]
     },
     "execution_count": 101,
     "metadata": {},
     "output_type": "execute_result"
    },
    {
     "data": {
      "image/png": "[encoded data removed]",
      "text/plain": [
       "<Figure size 640x480 with 1 Axes>"
      ]
     },
     "metadata": {},
     "output_type": "display_data"
    }
   ],
   "source": [
    "#Draw histogram to see distribution\n",
    "df['Semantic-Score'].hist(bins=6)"
   ]
  },
  {
   "cell_type": "markdown",
   "metadata": {},
   "source": [
    "We can see that it follows normal distribution"
   ]
  },
  {
   "cell_type": "code",
   "execution_count": 125,
   "metadata": {},
   "outputs": [
    {
     "name": "stderr",
     "output_type": "stream",
     "text": [
      "/var/folders/m6/6rkrbj5n1y3gjb1b_ndclcl00000gn/T/ipykernel_84591/2376815570.py:4: FutureWarning: The default of observed=False is deprecated and will be changed to True in a future version of pandas. Pass observed=False to retain current behavior or observed=True to adopt the future default and silence this warning.\n",
      "  sample_df = df.groupby('Score-Bin', group_keys=False).apply(lambda x: x.sample(n=max(1, int(len(x) * n)), random_state=0))\n",
      "/var/folders/m6/6rkrbj5n1y3gjb1b_ndclcl00000gn/T/ipykernel_84591/2376815570.py:4: DeprecationWarning: DataFrameGroupBy.apply operated on the grouping columns. This behavior is deprecated, and in a future version of pandas the grouping columns will be excluded from the operation. Either pass `include_groups=False` to exclude the groupings or explicitly select the grouping columns after groupby to silence this warning.\n",
      "  sample_df = df.groupby('Score-Bin', group_keys=False).apply(lambda x: x.sample(n=max(1, int(len(x) * n)), random_state=0))\n"
     ]
    }
   ],
   "source": [
    "df['Score-Bin'] = pd.cut(df['Semantic-Score'], bins=6)\n",
    "# Sample from each bin\n",
    "n = 0.3\n",
    "sample_df = df.groupby('Score-Bin', group_keys=False).apply(lambda x: x.sample(n=max(1, int(len(x) * n)), random_state=0))\n",
    "sample_df = sample_df.reset_index(drop=True)\n",
    "sample_df['Label'] = ''\n",
    "\n"
   ]
  },
  {
   "cell_type": "code",
   "execution_count": 126,
   "metadata": {},
   "outputs": [
    {
     "data": {
      "text/plain": [
       "(8, 8)"
      ]
     },
     "execution_count": 126,
     "metadata": {},
     "output_type": "execute_result"
    }
   ],
   "source": [
    "sample_df.shape"
   ]
  },
  {
   "cell_type": "markdown",
   "metadata": {},
   "source": [
    "Iterate, and give labels 'L', 'M' or 'H' before continuing "
   ]
  },
  {
   "cell_type": "code",
   "execution_count": 146,
   "metadata": {},
   "outputs": [
    {
     "data": {
      "text/html": [
       "<div>\n",
       "<style scoped>\n",
       "    .dataframe tbody tr th:only-of-type {\n",
       "        vertical-align: middle;\n",
       "    }\n",
       "\n",
       "    .dataframe tbody tr th {\n",
       "        vertical-align: top;\n",
       "    }\n",
       "\n",
       "    .dataframe thead th {\n",
       "        text-align: right;\n",
       "    }\n",
       "</style>\n",
       "<table border=\"1\" class=\"dataframe\">\n",
       "  <thead>\n",
       "    <tr style=\"text-align: right;\">\n",
       "      <th></th>\n",
       "      <th>Semantic-Score</th>\n",
       "      <th>Original-Comment</th>\n",
       "      <th>Agent-Comment</th>\n",
       "      <th>Label</th>\n",
       "    </tr>\n",
       "  </thead>\n",
       "  <tbody>\n",
       "    <tr>\n",
       "      <th>0</th>\n",
       "      <td>0.434890</td>\n",
       "      <td>\"\"\"The Jinja environment used to load template...</td>\n",
       "      <td>\"\"\"\\nReturns an instance of Jinja2's Environme...</td>\n",
       "      <td></td>\n",
       "    </tr>\n",
       "    <tr>\n",
       "      <th>1</th>\n",
       "      <td>0.512154</td>\n",
       "      <td>\"\"\"Reload templates when they are changed. Use...</td>\n",
       "      <td>\"\"\"\\nReturns the value of `TEMPLATES_AUTO_RELO...</td>\n",
       "      <td></td>\n",
       "    </tr>\n",
       "    <tr>\n",
       "      <th>2</th>\n",
       "      <td>0.579308</td>\n",
       "      <td>\"\"\"Determine if the given string is an IP addr...</td>\n",
       "      <td>\"\"\"\\nChecks if the provided string is a valid ...</td>\n",
       "      <td></td>\n",
       "    </tr>\n",
       "    <tr>\n",
       "      <th>3</th>\n",
       "      <td>0.599835</td>\n",
       "      <td>\"\"\"Enable this to use the ``X-Sendfile`` featu...</td>\n",
       "      <td>\"\"\"\\nDeprecation Notice:\\n\\nThe `use_x_sendfil...</td>\n",
       "      <td></td>\n",
       "    </tr>\n",
       "    <tr>\n",
       "      <th>4</th>\n",
       "      <td>0.612413</td>\n",
       "      <td>\"\"\"Dispatches the request and on top of that p...</td>\n",
       "      <td>\"\"\"\\nDispatches the full request, including ru...</td>\n",
       "      <td></td>\n",
       "    </tr>\n",
       "    <tr>\n",
       "      <th>5</th>\n",
       "      <td>0.606191</td>\n",
       "      <td>\"\"\"This attribute is set to ``True`` if the ap...</td>\n",
       "      <td>\"\"\"\\nDeprecation Notice: `got_first_request` i...</td>\n",
       "      <td></td>\n",
       "    </tr>\n",
       "    <tr>\n",
       "      <th>6</th>\n",
       "      <td>0.646095</td>\n",
       "      <td>\"\"\"The JSON encoder class to use. Defaults to\\...</td>\n",
       "      <td>\"\"\"\\nDeprecation Warning: `json_encoder` is de...</td>\n",
       "      <td></td>\n",
       "    </tr>\n",
       "    <tr>\n",
       "      <th>7</th>\n",
       "      <td>0.737521</td>\n",
       "      <td>\"\"\"The name of the cookie set by the session i...</td>\n",
       "      <td>\"\"\"\\nReturns the name of the session cookie.\\n...</td>\n",
       "      <td></td>\n",
       "    </tr>\n",
       "  </tbody>\n",
       "</table>\n",
       "</div>"
      ],
      "text/plain": [
       "   Semantic-Score                                   Original-Comment  \\\n",
       "0        0.434890  \"\"\"The Jinja environment used to load template...   \n",
       "1        0.512154  \"\"\"Reload templates when they are changed. Use...   \n",
       "2        0.579308  \"\"\"Determine if the given string is an IP addr...   \n",
       "3        0.599835  \"\"\"Enable this to use the ``X-Sendfile`` featu...   \n",
       "4        0.612413  \"\"\"Dispatches the request and on top of that p...   \n",
       "5        0.606191  \"\"\"This attribute is set to ``True`` if the ap...   \n",
       "6        0.646095  \"\"\"The JSON encoder class to use. Defaults to\\...   \n",
       "7        0.737521  \"\"\"The name of the cookie set by the session i...   \n",
       "\n",
       "                                       Agent-Comment Label  \n",
       "0  \"\"\"\\nReturns an instance of Jinja2's Environme...        \n",
       "1  \"\"\"\\nReturns the value of `TEMPLATES_AUTO_RELO...        \n",
       "2  \"\"\"\\nChecks if the provided string is a valid ...        \n",
       "3  \"\"\"\\nDeprecation Notice:\\n\\nThe `use_x_sendfil...        \n",
       "4  \"\"\"\\nDispatches the full request, including ru...        \n",
       "5  \"\"\"\\nDeprecation Notice: `got_first_request` i...        \n",
       "6  \"\"\"\\nDeprecation Warning: `json_encoder` is de...        \n",
       "7  \"\"\"\\nReturns the name of the session cookie.\\n...        "
      ]
     },
     "execution_count": 146,
     "metadata": {},
     "output_type": "execute_result"
    }
   ],
   "source": [
    "sample_df[sample_df['Label'] == ''][['Semantic-Score','Original-Comment', 'Agent-Comment', 'Label']]"
   ]
  },
  {
   "cell_type": "code",
   "execution_count": 191,
   "metadata": {},
   "outputs": [
    {
     "name": "stdout",
     "output_type": "stream",
     "text": [
      "-- LABEL --\n",
      "L\n",
      "-- Original Comment --\n",
      "\"\"\"Reload templates when they are changed. Used by\n",
      "        :meth:`create_jinja_environment`. It is enabled by default in debug mode.\n",
      "\n",
      "        .. deprecated:: 2.2\n",
      "            Will be removed in Flask 2.3. Use ``app.config[\"TEMPLATES_AUTO_RELOAD\"]``\n",
      "            instead.\n",
      "\n",
      "        .. versionadded:: 1.0\n",
      "            This property was added but the underlying config and behavior\n",
      "            already existed.\n",
      "        \"\"\"\n",
      "-- Agent Comment --\n",
      "\"\"\"\n",
      "Returns the value of `TEMPLATES_AUTO_RELOAD` from the application configuration.\n",
      "\n",
      "If `TEMPLATES_AUTO_RELOAD` is set, its value is returned. Otherwise, the value of `debug` is used as a fallback.\n",
      "\n",
      "Deprecated since Flask 2.3 in favor of using `TEMPLATES_AUTO_RELOAD` in `app.config`.\n",
      "\n",
      "Args:\n",
      "    None\n",
      "\n",
      "Returns:\n",
      "    bool: The value of `TEMPLATES_AUTO_RELOAD` or `debug` if not set.\n",
      "\"\"\"\n"
     ]
    }
   ],
   "source": [
    "n = 1\n",
    "\n",
    "print(\"\"\"-- LABEL --\"\"\")\n",
    "print(sample_df.iloc[n][\"Label\"])\n",
    "print(\"\"\"-- Original Comment --\"\"\")\n",
    "print(sample_df.iloc[n][\"Original-Comment\"])\n",
    "print(\"\"\"-- Agent Comment --\"\"\")\n",
    "print(sample_df.iloc[n][\"Agent-Comment\"])"
   ]
  },
  {
   "cell_type": "code",
   "execution_count": 189,
   "metadata": {},
   "outputs": [],
   "source": [
    "sample_df.iloc[7,7] = \"H\""
   ]
  },
  {
   "cell_type": "markdown",
   "metadata": {},
   "source": [
    "NOW WE HAVE LABELED ALL THE SAMPLE"
   ]
  },
  {
   "cell_type": "code",
   "execution_count": 155,
   "metadata": {},
   "outputs": [
    {
     "data": {
      "text/html": [
       "<div>\n",
       "<style scoped>\n",
       "    .dataframe tbody tr th:only-of-type {\n",
       "        vertical-align: middle;\n",
       "    }\n",
       "\n",
       "    .dataframe tbody tr th {\n",
       "        vertical-align: top;\n",
       "    }\n",
       "\n",
       "    .dataframe thead th {\n",
       "        text-align: right;\n",
       "    }\n",
       "</style>\n",
       "<table border=\"1\" class=\"dataframe\">\n",
       "  <thead>\n",
       "    <tr style=\"text-align: right;\">\n",
       "      <th></th>\n",
       "      <th>Label</th>\n",
       "      <th>Mean</th>\n",
       "      <th>Std_Dev</th>\n",
       "      <th>Min</th>\n",
       "      <th>Q1</th>\n",
       "      <th>Median</th>\n",
       "      <th>Q3</th>\n",
       "      <th>Max</th>\n",
       "    </tr>\n",
       "  </thead>\n",
       "  <tbody>\n",
       "    <tr>\n",
       "      <th>0</th>\n",
       "      <td>H</td>\n",
       "      <td>0.671856</td>\n",
       "      <td>0.092864</td>\n",
       "      <td>0.606191</td>\n",
       "      <td>0.639024</td>\n",
       "      <td>0.671856</td>\n",
       "      <td>0.704689</td>\n",
       "      <td>0.737521</td>\n",
       "    </tr>\n",
       "    <tr>\n",
       "      <th>1</th>\n",
       "      <td>L</td>\n",
       "      <td>0.515626</td>\n",
       "      <td>0.082527</td>\n",
       "      <td>0.434890</td>\n",
       "      <td>0.473522</td>\n",
       "      <td>0.512154</td>\n",
       "      <td>0.555994</td>\n",
       "      <td>0.599835</td>\n",
       "    </tr>\n",
       "    <tr>\n",
       "      <th>2</th>\n",
       "      <td>M</td>\n",
       "      <td>0.612605</td>\n",
       "      <td>0.033394</td>\n",
       "      <td>0.579308</td>\n",
       "      <td>0.595860</td>\n",
       "      <td>0.612413</td>\n",
       "      <td>0.629254</td>\n",
       "      <td>0.646095</td>\n",
       "    </tr>\n",
       "  </tbody>\n",
       "</table>\n",
       "</div>"
      ],
      "text/plain": [
       "  Label      Mean   Std_Dev       Min        Q1    Median        Q3       Max\n",
       "0     H  0.671856  0.092864  0.606191  0.639024  0.671856  0.704689  0.737521\n",
       "1     L  0.515626  0.082527  0.434890  0.473522  0.512154  0.555994  0.599835\n",
       "2     M  0.612605  0.033394  0.579308  0.595860  0.612413  0.629254  0.646095"
      ]
     },
     "execution_count": 155,
     "metadata": {},
     "output_type": "execute_result"
    }
   ],
   "source": [
    "summary = sample_df.groupby('Label')['Semantic-Score'].agg(\n",
    "    Mean='mean',\n",
    "    Std_Dev='std',\n",
    "    Min='min',\n",
    "    Q1=lambda x: x.quantile(0.25),\n",
    "    Median='median',\n",
    "    Q3=lambda x: x.quantile(0.75),\n",
    "    Max='max'\n",
    ").reset_index()\n",
    "summary"
   ]
  },
  {
   "cell_type": "code",
   "execution_count": 158,
   "metadata": {},
   "outputs": [
    {
     "name": "stdout",
     "output_type": "stream",
     "text": [
      "Threshold between L and M: 0.576\n",
      "Threshold between M and H: 0.634\n"
     ]
    }
   ],
   "source": [
    "# Get Q3 of L and Q1 of M\n",
    "l_q3 = summary.loc[summary['Label'] == 'L', 'Q3'].values[0]\n",
    "m_q1 = summary.loc[summary['Label'] == 'M', 'Q1'].values[0]\n",
    "threshold_L_M = (l_q3 + m_q1) / 2\n",
    "\n",
    "# Get Q3 of M and Q1 of H\n",
    "m_q3 = summary.loc[summary['Label'] == 'M', 'Q3'].values[0]\n",
    "h_q1 = summary.loc[summary['Label'] == 'H', 'Q1'].values[0]\n",
    "threshold_M_H = (m_q3 + h_q1) / 2\n",
    "\n",
    "# Show results\n",
    "print(\"Threshold between L and M:\", round(threshold_L_M, 3))\n",
    "print(\"Threshold between M and H:\", round(threshold_M_H, 3))"
   ]
  }
 ],
 "metadata": {
  "kernelspec": {
   "display_name": ".venv",
   "language": "python",
   "name": "python3"
  },
  "language_info": {
   "codemirror_mode": {
    "name": "ipython",
    "version": 3
   },
   "file_extension": ".py",
   "mimetype": "text/x-python",
   "name": "python",
   "nbconvert_exporter": "python",
   "pygments_lexer": "ipython3",
   "version": "3.11.11"
  }
 },
 "nbformat": 4,
 "nbformat_minor": 5
}
